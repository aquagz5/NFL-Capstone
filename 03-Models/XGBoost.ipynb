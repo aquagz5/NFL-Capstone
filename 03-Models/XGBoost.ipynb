{
 "cells": [
  {
   "cell_type": "markdown",
   "metadata": {
    "application/vnd.databricks.v1+cell": {
     "cellMetadata": {
      "byteLimit": 2048000,
      "rowLimit": 10000
     },
     "inputWidgets": {},
     "nuid": "1f5e7877-2372-4748-91bf-6074f55b5b85",
     "showTitle": false,
     "title": ""
    }
   },
   "source": [
    "# XGBoost\n",
    "\n",
    "The following notebook will serve as a notebook to implement a Logistic Regression model to obtain a baseline measurement for our loss function in developing our models."
   ]
  },
  {
   "cell_type": "code",
   "execution_count": 0,
   "metadata": {
    "application/vnd.databricks.v1+cell": {
     "cellMetadata": {
      "byteLimit": 2048000,
      "rowLimit": 10000
     },
     "inputWidgets": {},
     "nuid": "015b6c90-9f21-4050-841f-a2da48572f1d",
     "showTitle": false,
     "title": ""
    }
   },
   "outputs": [],
   "source": [
    "%run /Workspace/Repos/anthony.m.quagliata@vanderbilt.edu/NFL-Capstone/03-Models/Model_Evaluation_Functions"
   ]
  },
  {
   "cell_type": "markdown",
   "metadata": {
    "application/vnd.databricks.v1+cell": {
     "cellMetadata": {
      "byteLimit": 2048000,
      "rowLimit": 10000
     },
     "inputWidgets": {},
     "nuid": "f953fb04-e7e1-42c0-ae2f-0b99cb4e7855",
     "showTitle": false,
     "title": ""
    }
   },
   "source": [
    "## Read Data and Import Libraries"
   ]
  },
  {
   "cell_type": "code",
   "execution_count": 0,
   "metadata": {
    "application/vnd.databricks.v1+cell": {
     "cellMetadata": {
      "byteLimit": 2048000,
      "rowLimit": 10000
     },
     "inputWidgets": {},
     "nuid": "ba4467c8-9446-4e2b-a748-6a3465466e23",
     "showTitle": false,
     "title": ""
    }
   },
   "outputs": [],
   "source": [
    "#Import Libraries\n",
    "import pandas as pd\n",
    "import numpy as np\n",
    "import matplotlib.pyplot as plt\n",
    "import os\n",
    "import warnings\n",
    "from pyspark.sql import SparkSession\n",
    "warnings.filterwarnings(\"ignore\")\n",
    "pd.set_option('display.max_columns', None)\n",
    "warnings.filterwarnings(\"ignore\")"
   ]
  },
  {
   "cell_type": "code",
   "execution_count": 0,
   "metadata": {
    "application/vnd.databricks.v1+cell": {
     "cellMetadata": {
      "byteLimit": 2048000,
      "rowLimit": 10000
     },
     "inputWidgets": {},
     "nuid": "bbe41686-bd99-4a90-adee-bb54912dc5f1",
     "showTitle": false,
     "title": ""
    }
   },
   "outputs": [],
   "source": [
    "# Define the directory where your data is located\n",
    "directory = \"/dbfs/mnt/nfl/\"\n",
    "\n",
    "# Read in all your datasets\n",
    "games = pd.read_csv(f\"{directory}games.csv\")\n",
    "players = pd.read_csv(f\"{directory}players.csv\")\n",
    "plays = pd.read_csv(f\"{directory}plays.csv\")\n",
    "tackles = pd.read_csv(f\"{directory}tackles.csv\")\n",
    "train = pd.read_csv(f\"{directory}train.csv\")\n",
    "val = pd.read_csv(f\"{directory}val.csv\")\n",
    "test = pd.read_csv(f\"{directory}test.csv\")"
   ]
  },
  {
   "cell_type": "code",
   "execution_count": 0,
   "metadata": {
    "application/vnd.databricks.v1+cell": {
     "cellMetadata": {
      "byteLimit": 2048000,
      "rowLimit": 10000
     },
     "inputWidgets": {},
     "nuid": "daf7cf99-c2e0-45a1-b2c1-9dc311b13bb0",
     "showTitle": false,
     "title": ""
    }
   },
   "outputs": [],
   "source": [
    "train.head()"
   ]
  },
  {
   "cell_type": "markdown",
   "metadata": {
    "application/vnd.databricks.v1+cell": {
     "cellMetadata": {
      "byteLimit": 2048000,
      "rowLimit": 10000
     },
     "inputWidgets": {},
     "nuid": "63380420-d766-4af9-872d-5b28ede4462c",
     "showTitle": false,
     "title": ""
    }
   },
   "source": [
    "## XGBoost Model"
   ]
  },
  {
   "cell_type": "code",
   "execution_count": 0,
   "metadata": {
    "application/vnd.databricks.v1+cell": {
     "cellMetadata": {
      "byteLimit": 2048000,
      "rowLimit": 10000
     },
     "inputWidgets": {},
     "nuid": "6de8f580-9a96-4fa8-a187-44ae3eef5b92",
     "showTitle": false,
     "title": ""
    }
   },
   "outputs": [],
   "source": [
    "#import libraries\n",
    "from sklearn.pipeline import Pipeline\n",
    "from sklearn.preprocessing import MinMaxScaler\n",
    "import xgboost as xgb\n",
    "from xgboost import XGBClassifier\n",
    "from sklearn.model_selection import train_test_split\n",
    "from sklearn.metrics import accuracy_score\n",
    "import numpy as np\n",
    "from hyperopt import hp, tpe, fmin, Trials\n",
    "from sklearn.metrics import roc_auc_score\n",
    "from sklearn.model_selection import ParameterSampler\n",
    "\n",
    "\n",
    "\n",
    "\n",
    "cols_to_remove = [\"Week\", \"gameId\", \"playId\", \"nflId\", \"frameId\", \"tackle_single\", \"tackle_multiple\"]\n",
    "x_train = train.drop(columns = cols_to_remove)\n",
    "y_train = train[\"tackle_multiple\"]\n",
    "x_val = val.drop(columns = cols_to_remove)\n",
    "y_val = val[\"tackle_multiple\"]\n",
    "x_test = test.drop(columns = cols_to_remove)\n",
    "y_test = test[\"tackle_multiple\"]\n",
    "\n",
    "# Ensure observations of a play within a game are grouped together\n",
    "group_sizes_train = train.groupby('gamePlayId').size().tolist()\n",
    "group_sizes_val = val.groupby('gamePlayId').size().tolist()\n",
    "group_sizes_test = test.groupby('gamePlayId').size().tolist()\n",
    "\n",
    "x_train = x_train.drop(columns = 'gamePlayId')\n",
    "x_val = x_val.drop(columns = 'gamePlayId')\n",
    "x_test = x_test.drop(columns = 'gamePlayId')\n",
    "\n",
    "# Convert data into DMatrix format (XGBoost's internal data structure)\n",
    "dtrain = xgb.DMatrix(x_train, label=y_train, enable_categorical=True, group=group_sizes_train)\n",
    "dval = xgb.DMatrix(x_val, label=y_val, enable_categorical=True, group=group_sizes_val)\n",
    "dtest = xgb.DMatrix(x_test, label=y_test, enable_categorical=True, group=group_sizes_test)"
   ]
  },
  {
   "cell_type": "code",
   "execution_count": 0,
   "metadata": {
    "application/vnd.databricks.v1+cell": {
     "cellMetadata": {
      "byteLimit": 2048000,
      "rowLimit": 10000
     },
     "inputWidgets": {},
     "nuid": "2f4fc913-afe1-4a2b-847c-211d8e375fdd",
     "showTitle": false,
     "title": ""
    }
   },
   "outputs": [],
   "source": [
    "params = {\n",
    "    'objective': 'binary:logistic',  # for binary classification\n",
    "    'eval_metric': 'logloss',  # use logloss for binary classification problems todo: test between logloss, error, auc\n",
    "    'max_depth': 4,  # maximum depth of the tree\n",
    "    'eta': 0.05,  # learning rate\n",
    "    'subsample': 0.9,  # fraction of samples used for fitting the trees\n",
    "    'colsample_bytree': 0.9,  # fraction of features used for fitting the trees\n",
    "    'n_estimators': 140,\n",
    "    'gamma': 0.2,\n",
    "    'min_child_weight': 5,\n",
    "    'scale_pos_weight': 5\n",
    "}"
   ]
  },
  {
   "cell_type": "code",
   "execution_count": 0,
   "metadata": {
    "application/vnd.databricks.v1+cell": {
     "cellMetadata": {
      "byteLimit": 2048000,
      "rowLimit": 10000
     },
     "inputWidgets": {},
     "nuid": "55d37905-9d09-4f86-bedd-bc0fc8bdad5a",
     "showTitle": false,
     "title": ""
    }
   },
   "outputs": [],
   "source": [
    "# Train the XGBoost model with early stopping\n",
    "early_stopping_rounds = 10\n",
    "num_rounds = 1000\n",
    "\n",
    "# Specify the validation set for early stopping\n",
    "evals = [(dtrain, 'train'), (dval, 'validation')]\n",
    "\n",
    "# Define the model\n",
    "model = xgb.train(params, dtrain, num_rounds, evals=evals, early_stopping_rounds=early_stopping_rounds)"
   ]
  },
  {
   "cell_type": "code",
   "execution_count": 0,
   "metadata": {
    "application/vnd.databricks.v1+cell": {
     "cellMetadata": {
      "byteLimit": 2048000,
      "rowLimit": 10000
     },
     "inputWidgets": {},
     "nuid": "0e3dfb20-de16-4285-87aa-fb87321443ff",
     "showTitle": false,
     "title": ""
    }
   },
   "outputs": [],
   "source": [
    "probabilities_train = model.predict(dtrain)\n",
    "probabilities_val = model.predict(dval)\n",
    "probabilities_test = model.predict(dtest)"
   ]
  },
  {
   "cell_type": "code",
   "execution_count": 0,
   "metadata": {
    "application/vnd.databricks.v1+cell": {
     "cellMetadata": {
      "byteLimit": 2048000,
      "rowLimit": 10000
     },
     "inputWidgets": {},
     "nuid": "d234d646-f81f-4387-a5fe-d908621a1d16",
     "showTitle": false,
     "title": ""
    }
   },
   "outputs": [],
   "source": [
    "log_loss(y_train, probabilities_train)"
   ]
  },
  {
   "cell_type": "code",
   "execution_count": 0,
   "metadata": {
    "application/vnd.databricks.v1+cell": {
     "cellMetadata": {
      "byteLimit": 2048000,
      "rowLimit": 10000
     },
     "inputWidgets": {},
     "nuid": "3006eca5-2b49-4b6b-a6fc-7d41d66ed121",
     "showTitle": false,
     "title": ""
    }
   },
   "outputs": [],
   "source": [
    "log_loss(y_val, probabilities_val)"
   ]
  },
  {
   "cell_type": "code",
   "execution_count": 0,
   "metadata": {
    "application/vnd.databricks.v1+cell": {
     "cellMetadata": {
      "byteLimit": 2048000,
      "rowLimit": 10000
     },
     "inputWidgets": {},
     "nuid": "0a247b1a-49ef-4d16-8ee5-ce6b9ecacb87",
     "showTitle": false,
     "title": ""
    }
   },
   "outputs": [],
   "source": [
    "log_loss(y_test, probabilities_test)"
   ]
  },
  {
   "cell_type": "code",
   "execution_count": 0,
   "metadata": {
    "application/vnd.databricks.v1+cell": {
     "cellMetadata": {
      "byteLimit": 2048000,
      "rowLimit": 10000
     },
     "inputWidgets": {},
     "nuid": "8d66316a-36e7-4bb6-ba0f-77e28c309b1d",
     "showTitle": false,
     "title": ""
    }
   },
   "outputs": [],
   "source": [
    "plotROC(y_train, probabilities_train)"
   ]
  },
  {
   "cell_type": "code",
   "execution_count": 0,
   "metadata": {
    "application/vnd.databricks.v1+cell": {
     "cellMetadata": {
      "byteLimit": 2048000,
      "rowLimit": 10000
     },
     "inputWidgets": {},
     "nuid": "855b6472-a5fa-4910-a8f6-a035a983ca75",
     "showTitle": false,
     "title": ""
    }
   },
   "outputs": [],
   "source": [
    "plotROC(y_val, probabilities_val)"
   ]
  },
  {
   "cell_type": "code",
   "execution_count": 0,
   "metadata": {
    "application/vnd.databricks.v1+cell": {
     "cellMetadata": {
      "byteLimit": 2048000,
      "rowLimit": 10000
     },
     "inputWidgets": {},
     "nuid": "ebbf14fc-361b-4aae-9b29-91ea9a1a9145",
     "showTitle": false,
     "title": ""
    }
   },
   "outputs": [],
   "source": [
    "plotROC(y_test, probabilities_test)"
   ]
  },
  {
   "cell_type": "code",
   "execution_count": 0,
   "metadata": {
    "application/vnd.databricks.v1+cell": {
     "cellMetadata": {
      "byteLimit": 2048000,
      "rowLimit": 10000
     },
     "inputWidgets": {},
     "nuid": "a1ee5efa-1b68-4511-b226-9fecacac3a9a",
     "showTitle": false,
     "title": ""
    }
   },
   "outputs": [],
   "source": [
    "youdens_j_value_train = youdens_j(y_train, probabilities_train)\n",
    "youdens_j_value_val = youdens_j(y_val, probabilities_val)\n",
    "youdens_j_value_test = youdens_j(y_test, probabilities_test)"
   ]
  },
  {
   "cell_type": "code",
   "execution_count": 0,
   "metadata": {
    "application/vnd.databricks.v1+cell": {
     "cellMetadata": {
      "byteLimit": 2048000,
      "rowLimit": 10000
     },
     "inputWidgets": {},
     "nuid": "795a3e70-b3d8-4669-af8a-aa86c9c63c85",
     "showTitle": false,
     "title": ""
    }
   },
   "outputs": [],
   "source": [
    "binaryClfMetrics(y_train, probabilities_train, threshold=youdens_j_value_train)"
   ]
  },
  {
   "cell_type": "code",
   "execution_count": 0,
   "metadata": {
    "application/vnd.databricks.v1+cell": {
     "cellMetadata": {
      "byteLimit": 2048000,
      "rowLimit": 10000
     },
     "inputWidgets": {},
     "nuid": "4d77f5a4-c5ce-4cfb-9e23-5682b3276f7b",
     "showTitle": false,
     "title": ""
    }
   },
   "outputs": [],
   "source": [
    "binaryClfMetrics(y_val, probabilities_val, threshold=youdens_j_value_val)"
   ]
  },
  {
   "cell_type": "code",
   "execution_count": 0,
   "metadata": {
    "application/vnd.databricks.v1+cell": {
     "cellMetadata": {
      "byteLimit": 2048000,
      "rowLimit": 10000
     },
     "inputWidgets": {},
     "nuid": "fb87e1c4-4b34-41b3-977a-342582194144",
     "showTitle": false,
     "title": ""
    }
   },
   "outputs": [],
   "source": [
    "binaryClfMetrics(y_test, probabilities_test, threshold=youdens_j_value_test)"
   ]
  },
  {
   "cell_type": "code",
   "execution_count": 0,
   "metadata": {
    "application/vnd.databricks.v1+cell": {
     "cellMetadata": {
      "byteLimit": 2048000,
      "rowLimit": 10000
     },
     "inputWidgets": {},
     "nuid": "ec511729-3cc0-4cc8-ac80-4cb1499efc15",
     "showTitle": false,
     "title": ""
    }
   },
   "outputs": [],
   "source": [
    "highest_avg_acc_per_play(train, probabilities_train)"
   ]
  },
  {
   "cell_type": "code",
   "execution_count": 0,
   "metadata": {
    "application/vnd.databricks.v1+cell": {
     "cellMetadata": {
      "byteLimit": 2048000,
      "rowLimit": 10000
     },
     "inputWidgets": {},
     "nuid": "6181c95a-5236-4cb5-be85-d1c2d228820e",
     "showTitle": false,
     "title": ""
    }
   },
   "outputs": [],
   "source": [
    "highest_avg_acc_per_play(val, probabilities_val)"
   ]
  },
  {
   "cell_type": "code",
   "execution_count": 0,
   "metadata": {
    "application/vnd.databricks.v1+cell": {
     "cellMetadata": {
      "byteLimit": 2048000,
      "rowLimit": 10000
     },
     "inputWidgets": {},
     "nuid": "d95af7cf-b7e9-40b7-92ab-e7dfcedf982b",
     "showTitle": false,
     "title": ""
    }
   },
   "outputs": [],
   "source": [
    "highest_avg_acc_per_play(test, probabilities_test)"
   ]
  },
  {
   "cell_type": "code",
   "execution_count": 0,
   "metadata": {
    "application/vnd.databricks.v1+cell": {
     "cellMetadata": {
      "byteLimit": 2048000,
      "rowLimit": 10000
     },
     "inputWidgets": {},
     "nuid": "af618f43-2336-4802-9c10-a8a5d64e475a",
     "showTitle": false,
     "title": ""
    }
   },
   "outputs": [],
   "source": [
    "acc_frame_tackle(train,probabilities_train)"
   ]
  },
  {
   "cell_type": "code",
   "execution_count": 0,
   "metadata": {
    "application/vnd.databricks.v1+cell": {
     "cellMetadata": {
      "byteLimit": 2048000,
      "rowLimit": 10000
     },
     "inputWidgets": {},
     "nuid": "21da4f99-0788-42ac-a573-b85737aec813",
     "showTitle": false,
     "title": ""
    }
   },
   "outputs": [],
   "source": [
    "acc_frame_tackle(val,probabilities_val)"
   ]
  },
  {
   "cell_type": "code",
   "execution_count": 0,
   "metadata": {
    "application/vnd.databricks.v1+cell": {
     "cellMetadata": {
      "byteLimit": 2048000,
      "rowLimit": 10000
     },
     "inputWidgets": {},
     "nuid": "17dce735-bdcf-4c59-878d-8d12d8ccf356",
     "showTitle": false,
     "title": ""
    }
   },
   "outputs": [],
   "source": [
    "acc_frame_tackle(test, probabilities_test)"
   ]
  },
  {
   "cell_type": "markdown",
   "metadata": {
    "application/vnd.databricks.v1+cell": {
     "cellMetadata": {},
     "inputWidgets": {},
     "nuid": "0f32b5c5-1437-49f3-ba60-c6f83e1ace20",
     "showTitle": false,
     "title": ""
    }
   },
   "source": [
    "## Feature Importance"
   ]
  },
  {
   "cell_type": "code",
   "execution_count": 0,
   "metadata": {
    "application/vnd.databricks.v1+cell": {
     "cellMetadata": {
      "byteLimit": 2048000,
      "rowLimit": 10000
     },
     "inputWidgets": {},
     "nuid": "94e9b22c-cbf0-4cba-a41a-d2956851fe8d",
     "showTitle": false,
     "title": ""
    }
   },
   "outputs": [],
   "source": [
    "import matplotlib.pyplot as plt\n",
    "\n",
    "labels = [\"BC Distance\", \"BC Speed\", \"D Speed\", \"D Direction\", \"BC Direction\", \"BC Distance to OOB\",\"BC Angle Relative to D\", \"D X Locaion\", \"D Orientation\", \"D Acceleration\", \"BC Distance From D Voronoi\", \"D Y Location\", \"Closest Blocker to D\", \"BC X Location\", \"BC Y Location\"]\n",
    "\n",
    "# Assuming 'model' is an instance of xgboost.Booster\n",
    "importance = model.get_score(importance_type='weight')\n",
    "\n",
    "# Normalize the feature importances\n",
    "sum_values = sum(importance.values())\n",
    "importance_normalized = {k: v / sum_values for k, v in importance.items()}\n",
    "\n",
    "# Sort feature importance values\n",
    "sorted_importance = sorted(importance_normalized.items(), key=lambda x: x[1], reverse=True)\n",
    "\n",
    "# Assuming 'sorted_importance' contains the sorted feature importances\n",
    "top_15_features = sorted_importance[:15]  # Select the top 15 features\n",
    "\n",
    "# Unpacking the lists of features and their corresponding importances\n",
    "features, importances = zip(*top_15_features)\n",
    "\n",
    "# Creating the bar chart\n",
    "plt.figure(figsize=(10, 8))\n",
    "plt.barh(labels, importances, color='brown')\n",
    "plt.xlabel('Importance')\n",
    "plt.title('Top 15 Feature Importances')\n",
    "plt.gca().invert_yaxis()  # Invert the y-axis to have the highest value at the top\n",
    "plt.figtext(0.8, 0.0, 'NOTE: \"BC\" stands for Ball Carrier, \"D\" stands for Defender, and \"OOB\" stands for Out Of Bounds', ha='right', fontsize=10, color='black')\n",
    "plt.show()\n"
   ]
  },
  {
   "cell_type": "markdown",
   "metadata": {
    "application/vnd.databricks.v1+cell": {
     "cellMetadata": {
      "byteLimit": 2048000,
      "rowLimit": 10000
     },
     "inputWidgets": {},
     "nuid": "205bc3df-5277-4590-87b4-cdae5d0eff4f",
     "showTitle": false,
     "title": ""
    }
   },
   "source": [
    "## Model Visualizations"
   ]
  },
  {
   "cell_type": "code",
   "execution_count": 0,
   "metadata": {
    "application/vnd.databricks.v1+cell": {
     "cellMetadata": {
      "byteLimit": 2048000,
      "rowLimit": 10000
     },
     "inputWidgets": {},
     "nuid": "349bb999-d955-4f3d-9ec0-1b5dc92cb044",
     "showTitle": false,
     "title": ""
    }
   },
   "outputs": [],
   "source": [
    "#tracking_1 = pd.read_csv(f\"{directory}tracking_week_1.csv\")\n",
    "#tracking_2 = pd.read_csv(f\"{directory}tracking_week_2.csv\")\n",
    "# tracking_3 = pd.read_csv(f\"{directory}tracking_week_3.csv\")\n",
    "# tracking_4 = pd.read_csv(f\"{directory}tracking_week_4.csv\")\n",
    "# tracking_5 = pd.read_csv(f\"{directory}tracking_week_5.csv\")\n",
    "# tracking_6 = pd.read_csv(f\"{directory}tracking_week_6.csv\")\n",
    "# tracking_7 = pd.read_csv(f\"{directory}tracking_week_7.csv\")\n",
    "#tracking_8 = pd.read_csv(f\"{directory}tracking_week_8.csv\")\n",
    "tracking_9 = pd.read_csv(f\"{directory}tracking_week_9.csv\")\n",
    "# tracking = pd.concat([tracking_1,tracking_2,tracking_3,tracking_4,tracking_5,tracking_6,tracking_7,tracking_8,tracking_9], axis = 0).reset_index(drop = True)\n",
    "# del tracking_1\n",
    "# del tracking_2\n",
    "# del tracking_3\n",
    "# del tracking_4\n",
    "# del tracking_5\n",
    "# del tracking_6\n",
    "# del tracking_7\n",
    "# del tracking_8\n",
    "# del tracking_9"
   ]
  },
  {
   "cell_type": "code",
   "execution_count": 0,
   "metadata": {
    "application/vnd.databricks.v1+cell": {
     "cellMetadata": {
      "byteLimit": 2048000,
      "rowLimit": 10000
     },
     "inputWidgets": {},
     "nuid": "c832b6f6-2722-4f85-b02a-fdefb607fdef",
     "showTitle": false,
     "title": ""
    }
   },
   "outputs": [],
   "source": [
    "games[games[\"visitorTeamAbbr\"]==\"PHI\"]"
   ]
  },
  {
   "cell_type": "code",
   "execution_count": 0,
   "metadata": {
    "application/vnd.databricks.v1+cell": {
     "cellMetadata": {
      "byteLimit": 2048000,
      "rowLimit": 10000
     },
     "inputWidgets": {},
     "nuid": "bd99e575-06ac-430f-ae1b-533e112a22fd",
     "showTitle": false,
     "title": ""
    }
   },
   "outputs": [],
   "source": [
    "plays[(plays[\"gameId\"]==2022110300) & (plays[\"ballCarrierDisplayName\"] == \"A.J. Brown\")]"
   ]
  },
  {
   "cell_type": "code",
   "execution_count": 0,
   "metadata": {
    "application/vnd.databricks.v1+cell": {
     "cellMetadata": {
      "byteLimit": 2048000,
      "rowLimit": 10000
     },
     "inputWidgets": {},
     "nuid": "ecbd85af-9fb6-4479-9eea-eb38af11792c",
     "showTitle": false,
     "title": ""
    }
   },
   "outputs": [],
   "source": [
    "animate_play_probs(games,tracking_9,plays,players,train,probabilities_train,2022110300,968).show() "
   ]
  }
 ],
 "metadata": {
  "application/vnd.databricks.v1+notebook": {
   "dashboards": [],
   "language": "python",
   "notebookMetadata": {
    "pythonIndentUnit": 4
   },
   "notebookName": "XGBoost",
   "widgets": {}
  },
  "kernelspec": {
   "display_name": "Python 3 (ipykernel)",
   "language": "python",
   "name": "python3"
  },
  "language_info": {
   "codemirror_mode": {
    "name": "ipython",
    "version": 3
   },
   "file_extension": ".py",
   "mimetype": "text/x-python",
   "name": "python",
   "nbconvert_exporter": "python",
   "pygments_lexer": "ipython3",
   "version": "3.9.13"
  }
 },
 "nbformat": 4,
 "nbformat_minor": 0
}
