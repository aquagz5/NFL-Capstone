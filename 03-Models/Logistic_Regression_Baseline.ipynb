{
 "cells": [
  {
   "cell_type": "markdown",
   "metadata": {
    "application/vnd.databricks.v1+cell": {
     "cellMetadata": {},
     "inputWidgets": {},
     "nuid": "1f5e7877-2372-4748-91bf-6074f55b5b85",
     "showTitle": false,
     "title": ""
    }
   },
   "source": [
    "# Logistic Regression Baseline\n",
    "\n",
    "The following notebook will serve as a notebook to implement a Logistic Regression model to obtain a baseline measurement for our loss function in developing our models."
   ]
  },
  {
   "cell_type": "code",
   "execution_count": 0,
   "metadata": {
    "application/vnd.databricks.v1+cell": {
     "cellMetadata": {
      "byteLimit": 2048000,
      "rowLimit": 10000
     },
     "inputWidgets": {},
     "nuid": "015b6c90-9f21-4050-841f-a2da48572f1d",
     "showTitle": false,
     "title": ""
    }
   },
   "outputs": [],
   "source": [
    "%run /Workspace/Repos/anthony.m.quagliata@vanderbilt.edu/NFL-Capstone/03-Models/Model_Evaluation_Functions"
   ]
  },
  {
   "cell_type": "markdown",
   "metadata": {
    "application/vnd.databricks.v1+cell": {
     "cellMetadata": {},
     "inputWidgets": {},
     "nuid": "f953fb04-e7e1-42c0-ae2f-0b99cb4e7855",
     "showTitle": false,
     "title": ""
    }
   },
   "source": [
    "## Read Data and Import Libraries"
   ]
  },
  {
   "cell_type": "code",
   "execution_count": 0,
   "metadata": {
    "application/vnd.databricks.v1+cell": {
     "cellMetadata": {
      "byteLimit": 2048000,
      "rowLimit": 10000
     },
     "inputWidgets": {},
     "nuid": "ba4467c8-9446-4e2b-a748-6a3465466e23",
     "showTitle": false,
     "title": ""
    }
   },
   "outputs": [],
   "source": [
    "#Import Libraries\n",
    "import pandas as pd\n",
    "import numpy as np\n",
    "import matplotlib.pyplot as plt\n",
    "import os\n",
    "import warnings\n",
    "from pyspark.sql import SparkSession\n",
    "warnings.filterwarnings(\"ignore\")\n",
    "pd.set_option('display.max_columns', None)\n",
    "warnings.filterwarnings(\"ignore\")"
   ]
  },
  {
   "cell_type": "code",
   "execution_count": 0,
   "metadata": {
    "application/vnd.databricks.v1+cell": {
     "cellMetadata": {
      "byteLimit": 2048000,
      "rowLimit": 10000
     },
     "inputWidgets": {},
     "nuid": "bbe41686-bd99-4a90-adee-bb54912dc5f1",
     "showTitle": false,
     "title": ""
    }
   },
   "outputs": [],
   "source": [
    "# Define the directory where your data is located\n",
    "directory = \"/dbfs/mnt/nfl/\"\n",
    "\n",
    "# Read in all your datasets\n",
    "games = pd.read_csv(f\"{directory}games.csv\")\n",
    "players = pd.read_csv(f\"{directory}players.csv\")\n",
    "plays = pd.read_csv(f\"{directory}plays.csv\")\n",
    "tackles = pd.read_csv(f\"{directory}tackles.csv\")\n",
    "train = pd.read_csv(f\"{directory}train.csv\")\n",
    "val = pd.read_csv(f\"{directory}val.csv\")\n",
    "test = pd.read_csv(f\"{directory}test.csv\")"
   ]
  },
  {
   "cell_type": "code",
   "execution_count": 0,
   "metadata": {
    "application/vnd.databricks.v1+cell": {
     "cellMetadata": {
      "byteLimit": 2048000,
      "rowLimit": 10000
     },
     "inputWidgets": {},
     "nuid": "daf7cf99-c2e0-45a1-b2c1-9dc311b13bb0",
     "showTitle": false,
     "title": ""
    }
   },
   "outputs": [],
   "source": [
    "train.head()"
   ]
  },
  {
   "cell_type": "markdown",
   "metadata": {
    "application/vnd.databricks.v1+cell": {
     "cellMetadata": {},
     "inputWidgets": {},
     "nuid": "63380420-d766-4af9-872d-5b28ede4462c",
     "showTitle": false,
     "title": ""
    }
   },
   "source": [
    "## Logistic Regression Model"
   ]
  },
  {
   "cell_type": "code",
   "execution_count": 0,
   "metadata": {
    "application/vnd.databricks.v1+cell": {
     "cellMetadata": {
      "byteLimit": 2048000,
      "rowLimit": 10000
     },
     "inputWidgets": {},
     "nuid": "6de8f580-9a96-4fa8-a187-44ae3eef5b92",
     "showTitle": false,
     "title": ""
    }
   },
   "outputs": [],
   "source": [
    "#import libraries\n",
    "from sklearn.pipeline import Pipeline\n",
    "from sklearn.preprocessing import MinMaxScaler\n",
    "from sklearn.linear_model import LogisticRegression\n",
    "from sklearn.model_selection import train_test_split\n",
    "from sklearn.metrics import accuracy_score\n",
    "import numpy as np\n",
    "\n",
    "\n",
    "cols_to_remove = [\"Week\", \"gameId\", \"playId\", \"nflId\", \"frameId\", \"gamePlayId\", \"tackle_single\", \"tackle_multiple\"]\n",
    "x_train = train.drop(columns = cols_to_remove)\n",
    "y_train = train[\"tackle_multiple\"]\n",
    "x_val = val.drop(columns = cols_to_remove)\n",
    "y_val = val[\"tackle_multiple\"]\n",
    "x_test = test.drop(columns = cols_to_remove)\n",
    "y_test = test[\"tackle_multiple\"] "
   ]
  },
  {
   "cell_type": "code",
   "execution_count": 0,
   "metadata": {
    "application/vnd.databricks.v1+cell": {
     "cellMetadata": {
      "byteLimit": 2048000,
      "rowLimit": 10000
     },
     "inputWidgets": {},
     "nuid": "1d0eed5c-8b4c-4165-8286-e9f0463cbcc5",
     "showTitle": false,
     "title": ""
    }
   },
   "outputs": [],
   "source": [
    "lr_pipeline = Pipeline([('scaler', MinMaxScaler()),  # MinMaxScaler for feature scaling\n",
    "    ('classifier', LogisticRegression())  # Logistic Regression Classifier\n",
    "])\n",
    "\n",
    "lr_pipeline.fit(x_train, y_train)"
   ]
  },
  {
   "cell_type": "markdown",
   "metadata": {
    "application/vnd.databricks.v1+cell": {
     "cellMetadata": {},
     "inputWidgets": {},
     "nuid": "369230af-5c4a-4a45-aa12-5f90173fd614",
     "showTitle": false,
     "title": ""
    }
   },
   "source": [
    "## Evaluation Metrics"
   ]
  },
  {
   "cell_type": "code",
   "execution_count": 0,
   "metadata": {
    "application/vnd.databricks.v1+cell": {
     "cellMetadata": {
      "byteLimit": 2048000,
      "rowLimit": 10000
     },
     "inputWidgets": {},
     "nuid": "5c671c0a-dc05-43fa-99dd-b3f60cffd17e",
     "showTitle": false,
     "title": ""
    }
   },
   "outputs": [],
   "source": [
    "probabilities_train = lr_pipeline.predict_proba(x_train)[:,1]\n",
    "log_loss(y_train, probabilities_train)"
   ]
  },
  {
   "cell_type": "code",
   "execution_count": 0,
   "metadata": {
    "application/vnd.databricks.v1+cell": {
     "cellMetadata": {
      "byteLimit": 2048000,
      "rowLimit": 10000
     },
     "inputWidgets": {},
     "nuid": "d98008e9-2cdc-4b35-acc2-dda68739fbbb",
     "showTitle": false,
     "title": ""
    }
   },
   "outputs": [],
   "source": [
    "probabilities_val = lr_pipeline.predict_proba(x_val)[:,1]\n",
    "log_loss(y_val, probabilities_val)"
   ]
  },
  {
   "cell_type": "code",
   "execution_count": 0,
   "metadata": {
    "application/vnd.databricks.v1+cell": {
     "cellMetadata": {
      "byteLimit": 2048000,
      "rowLimit": 10000
     },
     "inputWidgets": {},
     "nuid": "34b856f8-0e24-4d02-8103-3a63cd5f041b",
     "showTitle": false,
     "title": ""
    }
   },
   "outputs": [],
   "source": [
    "probabilities_test = lr_pipeline.predict_proba(x_test)[:,1]\n",
    "log_loss(y_test, probabilities_test)"
   ]
  },
  {
   "cell_type": "code",
   "execution_count": 0,
   "metadata": {
    "application/vnd.databricks.v1+cell": {
     "cellMetadata": {
      "byteLimit": 2048000,
      "rowLimit": 10000
     },
     "inputWidgets": {},
     "nuid": "902b0206-43bb-4a56-83d0-c7cafb473c76",
     "showTitle": false,
     "title": ""
    }
   },
   "outputs": [],
   "source": [
    "plotROC(y_train, probabilities_train)"
   ]
  },
  {
   "cell_type": "code",
   "execution_count": 0,
   "metadata": {
    "application/vnd.databricks.v1+cell": {
     "cellMetadata": {
      "byteLimit": 2048000,
      "rowLimit": 10000
     },
     "inputWidgets": {},
     "nuid": "855b6472-a5fa-4910-a8f6-a035a983ca75",
     "showTitle": false,
     "title": ""
    }
   },
   "outputs": [],
   "source": [
    "plotROC(y_val, probabilities_val)"
   ]
  },
  {
   "cell_type": "code",
   "execution_count": 0,
   "metadata": {
    "application/vnd.databricks.v1+cell": {
     "cellMetadata": {
      "byteLimit": 2048000,
      "rowLimit": 10000
     },
     "inputWidgets": {},
     "nuid": "e10c9311-b960-4ae9-afba-6ff3bfdc73c9",
     "showTitle": false,
     "title": ""
    }
   },
   "outputs": [],
   "source": [
    "plotROC(y_test, probabilities_test)"
   ]
  },
  {
   "cell_type": "code",
   "execution_count": 0,
   "metadata": {
    "application/vnd.databricks.v1+cell": {
     "cellMetadata": {
      "byteLimit": 2048000,
      "rowLimit": 10000
     },
     "inputWidgets": {},
     "nuid": "a1ee5efa-1b68-4511-b226-9fecacac3a9a",
     "showTitle": false,
     "title": ""
    }
   },
   "outputs": [],
   "source": [
    "youdens_j_value_train = youdens_j(y_train, probabilities_train)\n",
    "youdens_j_value_val = youdens_j(y_val, probabilities_val)\n",
    "youdens_j_value_test = youdens_j(y_test, probabilities_test)"
   ]
  },
  {
   "cell_type": "code",
   "execution_count": 0,
   "metadata": {
    "application/vnd.databricks.v1+cell": {
     "cellMetadata": {
      "byteLimit": 2048000,
      "rowLimit": 10000
     },
     "inputWidgets": {},
     "nuid": "448e4e43-8c7a-485c-8169-f11212294e84",
     "showTitle": false,
     "title": ""
    }
   },
   "outputs": [],
   "source": [
    "binaryClfMetrics(y_train, probabilities_train, threshold=youdens_j_value_train)"
   ]
  },
  {
   "cell_type": "code",
   "execution_count": 0,
   "metadata": {
    "application/vnd.databricks.v1+cell": {
     "cellMetadata": {
      "byteLimit": 2048000,
      "rowLimit": 10000
     },
     "inputWidgets": {},
     "nuid": "795a3e70-b3d8-4669-af8a-aa86c9c63c85",
     "showTitle": false,
     "title": ""
    }
   },
   "outputs": [],
   "source": [
    "binaryClfMetrics(y_val, probabilities_val, threshold=youdens_j_value_val)"
   ]
  },
  {
   "cell_type": "code",
   "execution_count": 0,
   "metadata": {
    "application/vnd.databricks.v1+cell": {
     "cellMetadata": {
      "byteLimit": 2048000,
      "rowLimit": 10000
     },
     "inputWidgets": {},
     "nuid": "06bcea9b-3c19-4e3b-ad70-057099c0885e",
     "showTitle": false,
     "title": ""
    }
   },
   "outputs": [],
   "source": [
    "binaryClfMetrics(y_test, probabilities_test, threshold=youdens_j_value_test)"
   ]
  },
  {
   "cell_type": "code",
   "execution_count": 0,
   "metadata": {
    "application/vnd.databricks.v1+cell": {
     "cellMetadata": {
      "byteLimit": 2048000,
      "rowLimit": 10000
     },
     "inputWidgets": {},
     "nuid": "847d71e8-85ed-4c1f-8e89-fca3e0371211",
     "showTitle": false,
     "title": ""
    }
   },
   "outputs": [],
   "source": [
    "highest_avg_acc_per_play(train, probabilities_train)"
   ]
  },
  {
   "cell_type": "code",
   "execution_count": 0,
   "metadata": {
    "application/vnd.databricks.v1+cell": {
     "cellMetadata": {
      "byteLimit": 2048000,
      "rowLimit": 10000
     },
     "inputWidgets": {},
     "nuid": "6181c95a-5236-4cb5-be85-d1c2d228820e",
     "showTitle": false,
     "title": ""
    }
   },
   "outputs": [],
   "source": [
    "highest_avg_acc_per_play(val, probabilities_val)"
   ]
  },
  {
   "cell_type": "code",
   "execution_count": 0,
   "metadata": {
    "application/vnd.databricks.v1+cell": {
     "cellMetadata": {
      "byteLimit": 2048000,
      "rowLimit": 10000
     },
     "inputWidgets": {},
     "nuid": "b401a178-a9aa-4814-9c32-2ba4f8782c23",
     "showTitle": false,
     "title": ""
    }
   },
   "outputs": [],
   "source": [
    "highest_avg_acc_per_play(test, probabilities_test)"
   ]
  },
  {
   "cell_type": "code",
   "execution_count": 0,
   "metadata": {
    "application/vnd.databricks.v1+cell": {
     "cellMetadata": {
      "byteLimit": 2048000,
      "rowLimit": 10000
     },
     "inputWidgets": {},
     "nuid": "795eea66-2850-4d8b-a183-9898f564ac08",
     "showTitle": false,
     "title": ""
    }
   },
   "outputs": [],
   "source": [
    "acc_frame_tackle(train,probabilities_train)"
   ]
  },
  {
   "cell_type": "code",
   "execution_count": 0,
   "metadata": {
    "application/vnd.databricks.v1+cell": {
     "cellMetadata": {
      "byteLimit": 2048000,
      "rowLimit": 10000
     },
     "inputWidgets": {},
     "nuid": "17c16a33-5f50-4475-8411-fb0b4d325de2",
     "showTitle": false,
     "title": ""
    }
   },
   "outputs": [],
   "source": [
    "acc_frame_tackle(val,probabilities_val)"
   ]
  },
  {
   "cell_type": "code",
   "execution_count": 0,
   "metadata": {
    "application/vnd.databricks.v1+cell": {
     "cellMetadata": {
      "byteLimit": 2048000,
      "rowLimit": 10000
     },
     "inputWidgets": {},
     "nuid": "4dcf5c46-5dab-46da-9440-bf267fc7457d",
     "showTitle": false,
     "title": ""
    }
   },
   "outputs": [],
   "source": [
    "acc_frame_tackle(test, probabilities_test)"
   ]
  },
  {
   "cell_type": "markdown",
   "metadata": {
    "application/vnd.databricks.v1+cell": {
     "cellMetadata": {},
     "inputWidgets": {},
     "nuid": "121fcd5d-99ea-493d-83d4-e21da181c999",
     "showTitle": false,
     "title": ""
    }
   },
   "source": [
    "## Model Visualizations"
   ]
  },
  {
   "cell_type": "code",
   "execution_count": 0,
   "metadata": {
    "application/vnd.databricks.v1+cell": {
     "cellMetadata": {
      "byteLimit": 2048000,
      "rowLimit": 10000
     },
     "inputWidgets": {},
     "nuid": "349bb999-d955-4f3d-9ec0-1b5dc92cb044",
     "showTitle": false,
     "title": ""
    }
   },
   "outputs": [],
   "source": [
    "# tracking_1 = pd.read_csv(f\"{directory}tracking_week_1.csv\")\n",
    "# tracking_2 = pd.read_csv(f\"{directory}tracking_week_2.csv\")\n",
    "# tracking_3 = pd.read_csv(f\"{directory}tracking_week_3.csv\")\n",
    "# tracking_4 = pd.read_csv(f\"{directory}tracking_week_4.csv\")\n",
    "# tracking_5 = pd.read_csv(f\"{directory}tracking_week_5.csv\")\n",
    "# tracking_6 = pd.read_csv(f\"{directory}tracking_week_6.csv\")\n",
    "# tracking_7 = pd.read_csv(f\"{directory}tracking_week_7.csv\")\n",
    "# tracking_8 = pd.read_csv(f\"{directory}tracking_week_8.csv\")\n",
    "# tracking_9 = pd.read_csv(f\"{directory}tracking_week_9.csv\")\n",
    "# tracking = pd.concat([tracking_1,tracking_2,tracking_3,tracking_4,tracking_5,tracking_6,tracking_7,tracking_8,tracking_9], axis = 0).reset_index(drop = True)\n",
    "# del tracking_1\n",
    "# del tracking_2\n",
    "# del tracking_3\n",
    "# del tracking_4\n",
    "# del tracking_5\n",
    "# del tracking_6\n",
    "# del tracking_7\n",
    "# del tracking_8\n",
    "# del tracking_9"
   ]
  },
  {
   "cell_type": "code",
   "execution_count": 0,
   "metadata": {
    "application/vnd.databricks.v1+cell": {
     "cellMetadata": {
      "byteLimit": 2048000,
      "rowLimit": 10000
     },
     "inputWidgets": {},
     "nuid": "33f580a4-45f9-4d76-ba50-258a9a505bd4",
     "showTitle": false,
     "title": ""
    }
   },
   "outputs": [],
   "source": [
    "%run /Workspace/Repos/anthony.m.quagliata@vanderbilt.edu/NFL-Capstone/03-Models/Model_Evaluation_Functions"
   ]
  },
  {
   "cell_type": "code",
   "execution_count": 0,
   "metadata": {
    "application/vnd.databricks.v1+cell": {
     "cellMetadata": {
      "byteLimit": 2048000,
      "rowLimit": 10000
     },
     "inputWidgets": {},
     "nuid": "ecbd85af-9fb6-4479-9eea-eb38af11792c",
     "showTitle": false,
     "title": ""
    }
   },
   "outputs": [],
   "source": [
    "animate_play_probs(games,tracking,plays,players,val,probabilities,2022090800,167).show() "
   ]
  }
 ],
 "metadata": {
  "application/vnd.databricks.v1+notebook": {
   "dashboards": [],
   "language": "python",
   "notebookMetadata": {
    "pythonIndentUnit": 4
   },
   "notebookName": "Logistic_Regression_Baseline",
   "widgets": {}
  },
  "kernelspec": {
   "display_name": "Python 3 (ipykernel)",
   "language": "python",
   "name": "python3"
  },
  "language_info": {
   "codemirror_mode": {
    "name": "ipython",
    "version": 3
   },
   "file_extension": ".py",
   "mimetype": "text/x-python",
   "name": "python",
   "nbconvert_exporter": "python",
   "pygments_lexer": "ipython3",
   "version": "3.9.13"
  }
 },
 "nbformat": 4,
 "nbformat_minor": 0
}
