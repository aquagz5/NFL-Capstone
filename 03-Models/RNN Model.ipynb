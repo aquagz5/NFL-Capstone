{
 "cells": [
  {
   "cell_type": "code",
   "execution_count": 41,
   "id": "initial_id",
   "metadata": {
    "collapsed": true,
    "ExecuteTime": {
     "end_time": "2023-12-28T22:09:12.255921Z",
     "start_time": "2023-12-28T22:09:12.248149Z"
    }
   },
   "outputs": [],
   "source": [
    "import torch\n",
    "import torch.nn as nn\n",
    "import torch.nn.functional as F\n",
    "from sklearn.model_selection import train_test_split\n",
    "import pandas as pd\n",
    "import numpy as np\n",
    "from sklearn.preprocessing import StandardScaler\n",
    "from sklearn.preprocessing import OneHotEncoder"
   ]
  },
  {
   "cell_type": "code",
   "execution_count": 42,
   "outputs": [],
   "source": [
    "# Run model prep notebook\n",
    "%run Model_prep.ipynb"
   ],
   "metadata": {
    "collapsed": false,
    "ExecuteTime": {
     "end_time": "2023-12-28T22:09:12.555422Z",
     "start_time": "2023-12-28T22:09:12.539818Z"
    }
   },
   "id": "1ba384e15b2ca985"
  },
  {
   "cell_type": "code",
   "execution_count": 105,
   "outputs": [
    {
     "data": {
      "text/plain": "         gameId  playId    nflId  frameId      x          y  unitDir   unitO  \\\n0  2.022091e+09    56.0  38577.0      6.0  41.89  24.593333   272.29  280.53   \n1  2.022091e+09    56.0  41239.0      6.0  27.85  23.373333   112.35   83.84   \n2  2.022091e+09    56.0  42816.0      6.0  49.38  45.673333   351.67  298.43   \n3  2.022091e+09    56.0  43294.0      6.0  41.85  15.483333    91.50  129.04   \n4  2.022091e+09    56.0  43298.0      6.0  27.89  20.193333    66.47  110.88   \n\n        force  home  ...  offenseFormation  absoluteYardlineNumber  \\\n0  288.200000     1  ...           SHOTGUN                      85   \n1  364.000000     1  ...           SHOTGUN                      85   \n2  346.254545     1  ...           SHOTGUN                      85   \n3  116.290909     1  ...           SHOTGUN                      85   \n4  241.090909     1  ...           SHOTGUN                      85   \n\n   timeSinceStart  preSnapHomeScore  preSnapVisitorScore  surface  \\\n0               0                 0                    0     turf   \n1               0                 0                    0     turf   \n2               0                 0                    0     turf   \n3               0                 0                    0     turf   \n4               0                 0                    0     turf   \n\n   inside_outside  weight position        gamePlayId  \n0          inside     242      ILB  2022090800.056.0  \n1          inside     280       DT  2022090800.056.0  \n2          inside     184       CB  2022090800.056.0  \n3          inside     208       CB  2022090800.056.0  \n4          inside     240       DE  2022090800.056.0  \n\n[5 rows x 83 columns]",
      "text/html": "<div>\n<style scoped>\n    .dataframe tbody tr th:only-of-type {\n        vertical-align: middle;\n    }\n\n    .dataframe tbody tr th {\n        vertical-align: top;\n    }\n\n    .dataframe thead th {\n        text-align: right;\n    }\n</style>\n<table border=\"1\" class=\"dataframe\">\n  <thead>\n    <tr style=\"text-align: right;\">\n      <th></th>\n      <th>gameId</th>\n      <th>playId</th>\n      <th>nflId</th>\n      <th>frameId</th>\n      <th>x</th>\n      <th>y</th>\n      <th>unitDir</th>\n      <th>unitO</th>\n      <th>force</th>\n      <th>home</th>\n      <th>...</th>\n      <th>offenseFormation</th>\n      <th>absoluteYardlineNumber</th>\n      <th>timeSinceStart</th>\n      <th>preSnapHomeScore</th>\n      <th>preSnapVisitorScore</th>\n      <th>surface</th>\n      <th>inside_outside</th>\n      <th>weight</th>\n      <th>position</th>\n      <th>gamePlayId</th>\n    </tr>\n  </thead>\n  <tbody>\n    <tr>\n      <th>0</th>\n      <td>2.022091e+09</td>\n      <td>56.0</td>\n      <td>38577.0</td>\n      <td>6.0</td>\n      <td>41.89</td>\n      <td>24.593333</td>\n      <td>272.29</td>\n      <td>280.53</td>\n      <td>288.200000</td>\n      <td>1</td>\n      <td>...</td>\n      <td>SHOTGUN</td>\n      <td>85</td>\n      <td>0</td>\n      <td>0</td>\n      <td>0</td>\n      <td>turf</td>\n      <td>inside</td>\n      <td>242</td>\n      <td>ILB</td>\n      <td>2022090800.056.0</td>\n    </tr>\n    <tr>\n      <th>1</th>\n      <td>2.022091e+09</td>\n      <td>56.0</td>\n      <td>41239.0</td>\n      <td>6.0</td>\n      <td>27.85</td>\n      <td>23.373333</td>\n      <td>112.35</td>\n      <td>83.84</td>\n      <td>364.000000</td>\n      <td>1</td>\n      <td>...</td>\n      <td>SHOTGUN</td>\n      <td>85</td>\n      <td>0</td>\n      <td>0</td>\n      <td>0</td>\n      <td>turf</td>\n      <td>inside</td>\n      <td>280</td>\n      <td>DT</td>\n      <td>2022090800.056.0</td>\n    </tr>\n    <tr>\n      <th>2</th>\n      <td>2.022091e+09</td>\n      <td>56.0</td>\n      <td>42816.0</td>\n      <td>6.0</td>\n      <td>49.38</td>\n      <td>45.673333</td>\n      <td>351.67</td>\n      <td>298.43</td>\n      <td>346.254545</td>\n      <td>1</td>\n      <td>...</td>\n      <td>SHOTGUN</td>\n      <td>85</td>\n      <td>0</td>\n      <td>0</td>\n      <td>0</td>\n      <td>turf</td>\n      <td>inside</td>\n      <td>184</td>\n      <td>CB</td>\n      <td>2022090800.056.0</td>\n    </tr>\n    <tr>\n      <th>3</th>\n      <td>2.022091e+09</td>\n      <td>56.0</td>\n      <td>43294.0</td>\n      <td>6.0</td>\n      <td>41.85</td>\n      <td>15.483333</td>\n      <td>91.50</td>\n      <td>129.04</td>\n      <td>116.290909</td>\n      <td>1</td>\n      <td>...</td>\n      <td>SHOTGUN</td>\n      <td>85</td>\n      <td>0</td>\n      <td>0</td>\n      <td>0</td>\n      <td>turf</td>\n      <td>inside</td>\n      <td>208</td>\n      <td>CB</td>\n      <td>2022090800.056.0</td>\n    </tr>\n    <tr>\n      <th>4</th>\n      <td>2.022091e+09</td>\n      <td>56.0</td>\n      <td>43298.0</td>\n      <td>6.0</td>\n      <td>27.89</td>\n      <td>20.193333</td>\n      <td>66.47</td>\n      <td>110.88</td>\n      <td>241.090909</td>\n      <td>1</td>\n      <td>...</td>\n      <td>SHOTGUN</td>\n      <td>85</td>\n      <td>0</td>\n      <td>0</td>\n      <td>0</td>\n      <td>turf</td>\n      <td>inside</td>\n      <td>240</td>\n      <td>DE</td>\n      <td>2022090800.056.0</td>\n    </tr>\n  </tbody>\n</table>\n<p>5 rows × 83 columns</p>\n</div>"
     },
     "execution_count": 105,
     "metadata": {},
     "output_type": "execute_result"
    }
   ],
   "source": [
    "# Read in dataset\n",
    "# train_df = pd.read_csv('train.csv')\n",
    "train_df = pd.read_csv('train_sample.csv')\n",
    "train_df.head()"
   ],
   "metadata": {
    "collapsed": false,
    "ExecuteTime": {
     "end_time": "2023-12-28T22:28:02.346122Z",
     "start_time": "2023-12-28T22:28:00.689160Z"
    }
   },
   "id": "ddf800e9dd3be00c"
  },
  {
   "cell_type": "code",
   "execution_count": 106,
   "outputs": [
    {
     "data": {
      "text/plain": "gameId            0\nplayId            0\nnflId             0\nframeId           0\nx                 0\n                 ..\nsurface           0\ninside_outside    0\nweight            0\nposition          0\ngamePlayId        0\nLength: 83, dtype: int64"
     },
     "execution_count": 106,
     "metadata": {},
     "output_type": "execute_result"
    }
   ],
   "source": [
    "train_df.isna().sum()\n",
    "\n",
    "train_df['tackle_efficiency_ingame'].fillna(0, inplace=True)\n",
    "train_df['tackle_rating_ingame'].fillna(0, inplace=True)\n",
    "\n",
    "train_df.isna().sum()"
   ],
   "metadata": {
    "collapsed": false,
    "ExecuteTime": {
     "end_time": "2023-12-28T22:28:02.463554Z",
     "start_time": "2023-12-28T22:28:02.344839Z"
    }
   },
   "id": "35308a68796a5b"
  },
  {
   "cell_type": "code",
   "execution_count": 4,
   "outputs": [],
   "source": [
    "extend_dv = 'tackle_binary_single'\n",
    "\n",
    "# Identify rows where tackle_binary_single is equal to 1\n",
    "tackle_rows = train_df[train_df['tackle_binary_single'] == 1]\n",
    "\n",
    "# Create a list to store the indices of rows to be updated\n",
    "rows_to_update = []\n",
    "\n",
    "# Get identifiers for each row with tackle_binary_single = 1 \n",
    "for _, row in tackle_rows.iterrows():\n",
    "    gamePlayId = row['gamePlayId']\n",
    "    nflId = row['nflId']\n",
    "    frameId = row['frameId']\n",
    "\n",
    "    # Identify the rows to be updated based on gamePlayId, nflId, and frame\n",
    "    rows_to_update.extend(\n",
    "        train_df[\n",
    "            (train_df['gamePlayId'] == gamePlayId) &\n",
    "            (train_df['nflId'] == nflId) &\n",
    "            ((train_df['frameId'] >= frameId - 2) & (train_df['frameId'] <= frameId + 2))\n",
    "        ].index\n",
    "    )\n",
    "\n",
    "# Update the values in the identified rows\n",
    "train_df.loc[rows_to_update, 'tackle_binary_single'] = 1"
   ],
   "metadata": {
    "collapsed": false,
    "ExecuteTime": {
     "end_time": "2023-12-27T23:26:12.777906Z",
     "start_time": "2023-12-27T23:25:03.351146Z"
    }
   },
   "id": "1ad0309270bb2104"
  },
  {
   "cell_type": "code",
   "execution_count": 108,
   "outputs": [],
   "source": [
    "# Get x, y, mask, and id mapping variables from data tensor function\n",
    "target_variable = 'tackle_binary_single'\n",
    "x, y, mask, id_data = data_tensors_rnn_3d(train_df, target_variable, True)"
   ],
   "metadata": {
    "collapsed": false,
    "ExecuteTime": {
     "end_time": "2023-12-28T22:28:30.776306Z",
     "start_time": "2023-12-28T22:28:07.471456Z"
    }
   },
   "id": "47f60f2fe6cff31d"
  },
  {
   "cell_type": "code",
   "execution_count": 109,
   "outputs": [
    {
     "name": "stdout",
     "output_type": "stream",
     "text": [
      "torch.Size([14399, 140, 91])\n",
      "torch.Size([14399, 140])\n",
      "torch.Size([14399, 140])\n",
      "(2015860, 3)\n"
     ]
    }
   ],
   "source": [
    "# Print shapes of variables\n",
    "print(x.shape)\n",
    "print(y.shape)\n",
    "print(mask.shape)\n",
    "print(id_data.shape)"
   ],
   "metadata": {
    "collapsed": false,
    "ExecuteTime": {
     "end_time": "2023-12-28T22:28:30.779208Z",
     "start_time": "2023-12-28T22:28:30.777010Z"
    }
   },
   "id": "f24a570221c9f4a6"
  },
  {
   "cell_type": "code",
   "execution_count": 110,
   "outputs": [
    {
     "name": "stdout",
     "output_type": "stream",
     "text": [
      "1309.0\n",
      "1047\n",
      "11517\n",
      "x_train shape:  torch.Size([11517, 140, 91])\n",
      "y_train shape:  torch.Size([11517, 140])\n",
      "mask_train shape:  torch.Size([11517, 140])\n",
      "id_train shape:  torch.Size([11517, 140, 91])\n",
      "\n",
      "x_test shape:  torch.Size([2882, 140, 91])\n",
      "y_test shape:  torch.Size([2882, 140])\n",
      "mask_test shape:  torch.Size([2882, 140])\n",
      "id_test shape:  torch.Size([2882, 140, 91])\n"
     ]
    }
   ],
   "source": [
    "split_ratio = 0.8\n",
    "num_players = 11\n",
    "num_frames = 140\n",
    "num_plays = x.shape[0] / num_players\n",
    "print(num_plays)\n",
    "plays_to_split = int(num_plays * split_ratio)\n",
    "print(plays_to_split)\n",
    "to_split = plays_to_split * num_players\n",
    "print(to_split)\n",
    "\n",
    "x_train = x[:to_split]\n",
    "y_train = y[:to_split]\n",
    "mask_train = mask[:to_split]\n",
    "id_train = id_data[:to_split * num_frames]\n",
    "\n",
    "x_test = x[to_split:]\n",
    "y_test = y[to_split:]\n",
    "mask_test = mask[to_split:]\n",
    "id_test = id_data[to_split:]\n",
    "\n",
    "print(\"x_train shape: \", x_train.shape)\n",
    "print(\"y_train shape: \", y_train.shape)\n",
    "print(\"mask_train shape: \", mask_train.shape)\n",
    "print(\"id_train shape: \", x_train.shape)\n",
    "\n",
    "print(\"\\nx_test shape: \", x_test.shape)\n",
    "print(\"y_test shape: \", y_test.shape)\n",
    "print(\"mask_test shape: \", mask_test.shape)\n",
    "print(\"id_test shape: \", x_test.shape)"
   ],
   "metadata": {
    "collapsed": false,
    "ExecuteTime": {
     "end_time": "2023-12-28T22:28:30.790416Z",
     "start_time": "2023-12-28T22:28:30.780004Z"
    }
   },
   "id": "e8556d98e202ebb8"
  },
  {
   "cell_type": "code",
   "execution_count": 111,
   "outputs": [],
   "source": [
    "import torch\n",
    "import torch.nn as nn\n",
    "\n",
    "class RNNModel(nn.Module):\n",
    "    def __init__(self, input_size, hidden_size, output_size):\n",
    "        super(RNNModel, self).__init__()\n",
    "        self.rnn = nn.RNN(input_size, hidden_size, batch_first=True)\n",
    "        self.fc1 = nn.Linear(hidden_size, 64)  # Additional fully connected layer\n",
    "        self.relu = nn.ReLU()  # Activation function (you can choose a different one)\n",
    "        self.fc2 = nn.Linear(64, output_size)  # Output layer\n",
    "        self.sigmoid = nn.Sigmoid()\n",
    "\n",
    "    def forward(self, x):\n",
    "        # RNN layer\n",
    "        out, _ = self.rnn(x)\n",
    "\n",
    "        # Fully connected layer 1\n",
    "        out = self.fc1(out)\n",
    "        out = self.relu(out)\n",
    "\n",
    "        # Fully connected layer 2 (output layer)\n",
    "        out = self.fc2(out)\n",
    "\n",
    "        # Apply sigmoid activation for binary classification\n",
    "        out = self.sigmoid(out)\n",
    "\n",
    "        return out\n"
   ],
   "metadata": {
    "collapsed": false,
    "ExecuteTime": {
     "end_time": "2023-12-28T22:28:30.792838Z",
     "start_time": "2023-12-28T22:28:30.791207Z"
    }
   },
   "id": "3e1dbaf121196dd4"
  },
  {
   "cell_type": "code",
   "execution_count": 112,
   "outputs": [
    {
     "name": "stdout",
     "output_type": "stream",
     "text": [
      "Number of samples: 11517\n",
      "Number of timesteps: 140\n",
      "Number of features: 91\n"
     ]
    }
   ],
   "source": [
    "# Assuming x_train is your PyTorch tensor\n",
    "x_train_shape = x_train.size() \n",
    "\n",
    "# Extracting each dimension into separate variables\n",
    "num_samples, num_timesteps, num_features = x_train_shape\n",
    "\n",
    "# Printing the values of each dimension\n",
    "print(\"Number of samples:\", num_samples)\n",
    "print(\"Number of timesteps:\", num_timesteps)\n",
    "print(\"Number of features:\", num_features)\n",
    "\n",
    "# Assuming you have your input data ready (x_train) and labels (y_train)\n",
    "hidden_size = 32\n",
    "output_size = 1  # Output size for each timestep"
   ],
   "metadata": {
    "collapsed": false,
    "ExecuteTime": {
     "end_time": "2023-12-28T22:28:32.460462Z",
     "start_time": "2023-12-28T22:28:32.452718Z"
    }
   },
   "id": "56786ed0ee8ed079"
  },
  {
   "cell_type": "code",
   "execution_count": 113,
   "outputs": [
    {
     "name": "stdout",
     "output_type": "stream",
     "text": [
      "Epoch 1/10 - Training Loss: 0.9603979587554932, Training Accuracy: 0.9644190575422668\n",
      "Epoch 2/10 - Training Loss: 0.9563014507293701, Training Accuracy: 0.9772708666691474\n",
      "Epoch 3/10 - Training Loss: 0.9522808194160461, Training Accuracy: 0.9860913680397921\n",
      "Epoch 4/10 - Training Loss: 0.9483038187026978, Training Accuracy: 0.9914697527878044\n",
      "Epoch 5/10 - Training Loss: 0.9444955587387085, Training Accuracy: 0.9946737121522222\n",
      "Epoch 6/10 - Training Loss: 0.940859317779541, Training Accuracy: 0.9965101278854861\n",
      "Epoch 7/10 - Training Loss: 0.937356173992157, Training Accuracy: 0.9975892779617708\n",
      "Epoch 8/10 - Training Loss: 0.9339007139205933, Training Accuracy: 0.9982380084099282\n",
      "Epoch 9/10 - Training Loss: 0.9304249882698059, Training Accuracy: 0.9986070281199221\n",
      "Epoch 10/10 - Training Loss: 0.9268833994865417, Training Accuracy: 0.9988563489996155\n",
      "Test Predictions: tensor([[0.4461, 0.4265, 0.4120,  ..., 0.4216, 0.4216, 0.4216],\n",
      "        [0.3936, 0.3942, 0.3992,  ..., 0.4216, 0.4216, 0.4216],\n",
      "        [0.4504, 0.4272, 0.4169,  ..., 0.4216, 0.4216, 0.4216],\n",
      "        ...,\n",
      "        [0.3995, 0.3928, 0.3847,  ..., 0.4216, 0.4216, 0.4216],\n",
      "        [0.3970, 0.4059, 0.4013,  ..., 0.4216, 0.4216, 0.4216],\n",
      "        [0.3704, 0.3806, 0.3853,  ..., 0.4216, 0.4216, 0.4216]])\n",
      "Test Loss: 0.9233635067939758\n"
     ]
    }
   ],
   "source": [
    "import torch\n",
    "import torch.nn as nn\n",
    "import torch.optim as optim\n",
    "\n",
    "# Instantiate the model\n",
    "model = RNNModel(num_features, hidden_size, output_size)\n",
    "\n",
    "# Define the Binary Cross Entropy (BCE) with logits loss and the optimizer\n",
    "criterion = nn.BCEWithLogitsLoss()\n",
    "optimizer = optim.Adam(model.parameters(), lr=0.001)  # Adjust the learning rate as needed\n",
    "\n",
    "# Training loop (example, adjust based on your actual training process)\n",
    "num_epochs = 10\n",
    "for epoch in range(num_epochs):\n",
    "    model.train()\n",
    "    optimizer.zero_grad()\n",
    "\n",
    "    # Forward pass with sigmoid activation\n",
    "    outputs = model(x_train)\n",
    "    outputs = outputs.view(-1, num_timesteps)  # Reshape to match y_train dimensions\n",
    "    loss = criterion(outputs, y_train.float())\n",
    "\n",
    "    # Backward pass and optimization\n",
    "    loss.backward()\n",
    "    optimizer.step()\n",
    "\n",
    "    # After each epoch, evaluate and print training loss and accuracy\n",
    "    model.eval()\n",
    "    with torch.no_grad():\n",
    "        train_predictions = model(x_train)\n",
    "        train_predictions = train_predictions.view(-1, num_timesteps)\n",
    "        \n",
    "        # Calculate training accuracy\n",
    "        predicted_labels = (train_predictions > 0.5).float()\n",
    "        correct_predictions = (predicted_labels == y_train.float())\n",
    "        accuracy = correct_predictions.sum().item() / correct_predictions.numel()\n",
    "\n",
    "        print(f\"Epoch {epoch + 1}/{num_epochs} - Training Loss: {loss.item()}, Training Accuracy: {accuracy}\")\n",
    "\n",
    "# After training, you can use the model to make predictions and evaluate log loss on the test set\n",
    "model.eval()\n",
    "with torch.no_grad():\n",
    "    test_predictions = model(x_test)\n",
    "    test_predictions = test_predictions.view(-1, num_timesteps)  # Reshape predictions\n",
    "\n",
    "# Evaluate log loss on the test set\n",
    "test_loss = criterion(test_predictions, y_test.float())\n",
    "\n",
    "# Print or use the predictions and loss as needed\n",
    "print(\"Test Predictions:\", test_predictions)\n",
    "print(\"Test Loss:\", test_loss.item())\n"
   ],
   "metadata": {
    "collapsed": false,
    "ExecuteTime": {
     "end_time": "2023-12-28T22:28:43.221214Z",
     "start_time": "2023-12-28T22:28:35.577336Z"
    }
   },
   "id": "aab9223a9b005a59"
  },
  {
   "cell_type": "code",
   "execution_count": 117,
   "outputs": [
    {
     "data": {
      "text/plain": "(array([3.32000e+02, 1.59900e+03, 5.70100e+03, 1.14370e+04, 1.76020e+04,\n        3.41644e+05, 1.56960e+04, 7.14300e+03, 2.12600e+03, 2.00000e+02]),\n array([0.23191483, 0.26164666, 0.29137847, 0.32111028, 0.35084209,\n        0.3805739 , 0.41030571, 0.44003755, 0.46976936, 0.49950117,\n        0.52923298]),\n <BarContainer object of 10 artists>)"
     },
     "execution_count": 117,
     "metadata": {},
     "output_type": "execute_result"
    },
    {
     "data": {
      "text/plain": "<Figure size 640x480 with 1 Axes>",
      "image/png": "[encoded data removed]"
     },
     "metadata": {},
     "output_type": "display_data"
    }
   ],
   "source": [
    "import matplotlib.pyplot as plt\n",
    "x = pd.DataFrame(test_predictions.flatten())\n",
    "x\n",
    "\n",
    "plt.hist(x)"
   ],
   "metadata": {
    "collapsed": false,
    "ExecuteTime": {
     "end_time": "2023-12-28T22:30:10.732458Z",
     "start_time": "2023-12-28T22:30:10.646154Z"
    }
   },
   "id": "fe43829115bee66a"
  },
  {
   "cell_type": "code",
   "execution_count": 116,
   "outputs": [
    {
     "name": "stdout",
     "output_type": "stream",
     "text": [
      "Number of samples: 11517\n",
      "Number of timesteps: 140\n",
      "Number of features: 91\n",
      "Epoch 1/10 - Training Loss: 0.9624685049057007, Training Accuracy: 0.9819819149332043\n",
      "Epoch 2/10 - Training Loss: 0.9580424427986145, Training Accuracy: 0.9878614222453764\n",
      "Epoch 3/10 - Training Loss: 0.9532633423805237, Training Accuracy: 0.9916322455004404\n",
      "Epoch 4/10 - Training Loss: 0.948207676410675, Training Accuracy: 0.994111189669929\n",
      "Epoch 5/10 - Training Loss: 0.9425910115242004, Training Accuracy: 0.9956877411032139\n",
      "Epoch 6/10 - Training Loss: 0.9367266893386841, Training Accuracy: 0.9967569679604064\n",
      "Epoch 7/10 - Training Loss: 0.9308890700340271, Training Accuracy: 0.9975297386472172\n",
      "Epoch 8/10 - Training Loss: 0.9248045086860657, Training Accuracy: 0.9980203177910915\n",
      "Epoch 9/10 - Training Loss: 0.9182944893836975, Training Accuracy: 0.9983366203996576\n",
      "Epoch 10/10 - Training Loss: 0.9112234711647034, Training Accuracy: 0.9985319837755368\n",
      "Test Predictions: tensor([[0.4237, 0.4219, 0.4218,  ..., 0.3850, 0.3850, 0.3850],\n",
      "        [0.4425, 0.4393, 0.4293,  ..., 0.3850, 0.3850, 0.3850],\n",
      "        [0.3925, 0.3607, 0.3504,  ..., 0.3850, 0.3850, 0.3850],\n",
      "        ...,\n",
      "        [0.3403, 0.3244, 0.3283,  ..., 0.3850, 0.3850, 0.3850],\n",
      "        [0.4352, 0.4179, 0.4091,  ..., 0.3850, 0.3850, 0.3850],\n",
      "        [0.3130, 0.3272, 0.3256,  ..., 0.3850, 0.3850, 0.3850]])\n",
      "Test Loss: 0.9039266109466553\n"
     ]
    }
   ],
   "source": [
    "import torch\n",
    "import torch.nn as nn\n",
    "\n",
    "class RNNModel(nn.Module):\n",
    "    def __init__(self, input_size, hidden_size, output_size):\n",
    "        super(RNNModel, self).__init__()\n",
    "        self.rnn = nn.RNN(input_size, hidden_size, batch_first=True)\n",
    "        self.fc1 = nn.Linear(hidden_size, 64)  # Additional fully connected layer\n",
    "        self.relu = nn.ReLU()  # Activation function (you can choose a different one)\n",
    "        self.fc2 = nn.Linear(64, output_size)  # Output layer\n",
    "        self.sigmoid = nn.Sigmoid()\n",
    "\n",
    "    def forward(self, x):\n",
    "        # RNN layer\n",
    "        out, _ = self.rnn(x)\n",
    "\n",
    "        # Fully connected layer 1\n",
    "        out = self.fc1(out)\n",
    "        out = self.relu(out)\n",
    "\n",
    "        # Fully connected layer 2 (output layer)\n",
    "        out = self.fc2(out)\n",
    "\n",
    "        # Apply sigmoid activation for binary classification\n",
    "        out = self.sigmoid(out)\n",
    "\n",
    "        return out\n",
    "\n",
    "# Assuming x_train is your PyTorch tensor\n",
    "x_train_shape = x_train.size() \n",
    "\n",
    "# Extracting each dimension into separate variables\n",
    "num_samples, num_timesteps, num_features = x_train_shape\n",
    "\n",
    "# Printing the values of each dimension\n",
    "print(\"Number of samples:\", num_samples)\n",
    "print(\"Number of timesteps:\", num_timesteps)\n",
    "print(\"Number of features:\", num_features)\n",
    "\n",
    "# Assuming you have your input data ready (x_train) and labels (y_train)\n",
    "hidden_size = 32\n",
    "output_size = 1  # Output size for each timestep\n",
    "\n",
    "import torch\n",
    "import torch.nn as nn\n",
    "import torch.optim as optim\n",
    "\n",
    "# Instantiate the model\n",
    "model = RNNModel(num_features, hidden_size, output_size)\n",
    "\n",
    "# Define the Binary Cross Entropy (BCE) with logits loss and the optimizer\n",
    "criterion = nn.BCEWithLogitsLoss()\n",
    "optimizer = optim.Adam(model.parameters(), lr=0.001)  # Adjust the learning rate as needed\n",
    "\n",
    "# Training loop (example, adjust based on your actual training process)\n",
    "num_epochs = 10\n",
    "for epoch in range(num_epochs):\n",
    "    model.train()\n",
    "    optimizer.zero_grad()\n",
    "\n",
    "    # Forward pass with sigmoid activation\n",
    "    outputs = model(x_train)\n",
    "    outputs = outputs.view(-1, num_timesteps)  # Reshape to match y_train dimensions\n",
    "    loss = criterion(outputs, y_train.float())\n",
    "\n",
    "    # Backward pass and optimization\n",
    "    loss.backward()\n",
    "    optimizer.step()\n",
    "\n",
    "    # After each epoch, evaluate and print training loss and accuracy\n",
    "    model.eval()\n",
    "    with torch.no_grad():\n",
    "        train_predictions = model(x_train)\n",
    "        train_predictions = train_predictions.view(-1, num_timesteps)\n",
    "        \n",
    "        # Calculate training accuracy\n",
    "        predicted_labels = (train_predictions > 0.5).float()\n",
    "        correct_predictions = (predicted_labels == y_train.float())\n",
    "        accuracy = correct_predictions.sum().item() / correct_predictions.numel()\n",
    "\n",
    "        print(f\"Epoch {epoch + 1}/{num_epochs} - Training Loss: {loss.item()}, Training Accuracy: {accuracy}\")\n",
    "\n",
    "# After training, you can use the model to make predictions and evaluate log loss on the test set\n",
    "model.eval()\n",
    "with torch.no_grad():\n",
    "    test_predictions = model(x_test)\n",
    "    test_predictions = test_predictions.view(-1, num_timesteps)  # Reshape predictions\n",
    "\n",
    "# Evaluate log loss on the test set\n",
    "test_loss = criterion(test_predictions, y_test.float())\n",
    "\n",
    "# Print or use the predictions and loss as needed\n",
    "print(\"Test Predictions:\", test_predictions)\n",
    "print(\"Test Loss:\", test_loss.item())\n"
   ],
   "metadata": {
    "collapsed": false,
    "ExecuteTime": {
     "end_time": "2023-12-28T22:30:04.781333Z",
     "start_time": "2023-12-28T22:29:57.516731Z"
    }
   },
   "id": "e40fedb4084b4b8"
  }
 ],
 "metadata": {
  "kernelspec": {
   "display_name": "Python 3",
   "language": "python",
   "name": "python3"
  },
  "language_info": {
   "codemirror_mode": {
    "name": "ipython",
    "version": 2
   },
   "file_extension": ".py",
   "mimetype": "text/x-python",
   "name": "python",
   "nbconvert_exporter": "python",
   "pygments_lexer": "ipython2",
   "version": "2.7.6"
  }
 },
 "nbformat": 4,
 "nbformat_minor": 5
}
