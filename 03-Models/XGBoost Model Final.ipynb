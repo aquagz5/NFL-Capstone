{
 "cells": [
  {
   "cell_type": "code",
   "execution_count": 1,
   "outputs": [
    {
     "name": "stdout",
     "output_type": "stream",
     "text": [
      "Defaulting to user installation because normal site-packages is not writeable\r\n",
      "Requirement already satisfied: xgboost in /Users/gmduncan/Library/Python/3.9/lib/python/site-packages (2.0.2)\r\n",
      "Requirement already satisfied: numpy in /Users/gmduncan/Library/Python/3.9/lib/python/site-packages (from xgboost) (1.25.2)\r\n",
      "Requirement already satisfied: scipy in /Users/gmduncan/Library/Python/3.9/lib/python/site-packages (from xgboost) (1.11.1)\r\n",
      "\u001B[33mWARNING: You are using pip version 21.2.4; however, version 23.3.2 is available.\r\n",
      "You should consider upgrading via the '/Library/Developer/CommandLineTools/usr/bin/python3 -m pip install --upgrade pip' command.\u001B[0m\r\n",
      "Note: you may need to restart the kernel to use updated packages.\n"
     ]
    }
   ],
   "source": [
    "pip install xgboost"
   ],
   "metadata": {
    "collapsed": false,
    "ExecuteTime": {
     "end_time": "2024-01-07T00:49:40.168618Z",
     "start_time": "2024-01-07T00:49:39.264353Z"
    }
   },
   "id": "71dd794551ab4e65"
  },
  {
   "cell_type": "code",
   "execution_count": 39,
   "outputs": [],
   "source": [
    "#Import libraries\n",
    "import pandas as pd\n",
    "import numpy as np\n",
    "import os\n",
    "import warnings\n",
    "import time\n",
    "import nfl_data_py as nfl\n",
    "import xgboost as xgb\n",
    "from xgboost import XGBClassifier\n",
    "from sklearn.metrics import precision_score, recall_score, f1_score, roc_auc_score, confusion_matrix, ConfusionMatrixDisplay, brier_score_loss, auc, classification_report, roc_curve, accuracy_score, precision_recall_curve\n",
    "import matplotlib.pyplot as plt\n",
    "warnings.filterwarnings(\"ignore\")\n",
    "pd.set_option('display.max_columns', None)\n",
    "warnings.filterwarnings(\"ignore\")\n",
    "os.chdir(\"/Users/gmduncan/Desktop/NFL\")"
   ],
   "metadata": {
    "collapsed": false,
    "ExecuteTime": {
     "end_time": "2024-01-07T00:52:16.698197Z",
     "start_time": "2024-01-07T00:52:16.691269Z"
    }
   },
   "id": "initial_id"
  },
  {
   "cell_type": "markdown",
   "source": [
    "### Read in datasets and prepare them"
   ],
   "metadata": {
    "collapsed": false
   },
   "id": "da617fa144d107ca"
  },
  {
   "cell_type": "code",
   "execution_count": 40,
   "outputs": [],
   "source": [
    "train_df = pd.read_csv(\"train_sample.csv\")\n",
    "val_df = pd.read_csv(\"val_sample.csv\")\n",
    "\n",
    "# Sort dataframe and reset index to be able to evaluate model later\n",
    "train_df = train_df.sort_values(by=['gameId','playId','nflId','frameId']).reset_index(drop=True)\n",
    "val_df = val_df.sort_values(by=['gameId','playId','nflId','frameId']).reset_index(drop=True)\n",
    "\n",
    "# Create eval df without extending dv to evaluate later\n",
    "eval_df = val_df[val_df['tackle_binary_single'] == 1].copy()"
   ],
   "metadata": {
    "collapsed": false,
    "ExecuteTime": {
     "end_time": "2024-01-07T00:52:20.140687Z",
     "start_time": "2024-01-07T00:52:18.044792Z"
    }
   },
   "id": "e1111f9a79f0af13"
  },
  {
   "cell_type": "code",
   "execution_count": 41,
   "outputs": [],
   "source": [
    "# TODO: temporary until we fix dataset\n",
    "train_df['tackle_efficiency_ingame'].fillna(0, inplace=True)\n",
    "train_df['tackle_rating_ingame'].fillna(0, inplace=True)\n",
    "\n",
    "val_df['tackle_efficiency_ingame'].fillna(0, inplace=True)\n",
    "val_df['tackle_rating_ingame'].fillna(0, inplace=True)\n",
    "\n",
    "# TODO: additional metrics we can include \n",
    "# Relative speed to ball carrier\n",
    "train_df['relative_speed'] = train_df['s'] - train_df['bcs']\n",
    "\n",
    "# Relative direction to ball carrier\n",
    "train_df['relative_direction'] = train_df['unitDir'] - train_df['bcdir']\n",
    "train_df['relative_direction'] = train_df['relative_direction'].apply(lambda x: (x + 360) % 360 if x < 0 else x % 360)\n",
    "\n",
    "# Relative angle to ball carrier\n",
    "x_diff = train_df['x'] - train_df['bcx']\n",
    "y_diff = train_df['y'] - train_df['bcy']\n",
    "train_df['relative_angle'] = np.arctan2(y_diff, x_diff) * (180/np.pi) \n",
    "\n",
    "# Relative speed to ball carrier\n",
    "val_df['relative_speed'] = val_df['s'] - val_df['bcs']\n",
    "\n",
    "# Relative direction to ball carrier\n",
    "val_df['relative_direction'] = val_df['unitDir'] - val_df['bcdir']\n",
    "val_df['relative_direction'] = val_df['relative_direction'].apply(lambda x: (x + 360) % 360 if x < 0 else x % 360)\n",
    "\n",
    "# Relative angle to ball carrier\n",
    "x_diff = val_df['x'] - val_df['bcx']\n",
    "y_diff = val_df['y'] - val_df['bcy']\n",
    "val_df['relative_angle'] = np.arctan2(y_diff, x_diff) * (180/np.pi) "
   ],
   "metadata": {
    "collapsed": false,
    "ExecuteTime": {
     "end_time": "2024-01-07T00:52:20.213549Z",
     "start_time": "2024-01-07T00:52:20.143240Z"
    }
   },
   "id": "c7edc439dcf64f56"
  },
  {
   "cell_type": "markdown",
   "source": [
    "### Extend the dependent variable to other frames"
   ],
   "metadata": {
    "collapsed": false
   },
   "id": "1c5d30d315e88ab2"
  },
  {
   "cell_type": "code",
   "execution_count": 42,
   "outputs": [],
   "source": [
    "frames_to_extend = 5\n",
    "extend_dv = 'tackle_binary_single'\n",
    "\n",
    "# Identify rows where tackle_binary_single is equal to 1\n",
    "tackle_rows_train = train_df[train_df[extend_dv] == 1]\n",
    "\n",
    "# Create a list to store the indices of rows to be updated\n",
    "rows_to_update_train = []\n",
    "\n",
    "# Get identifiers for each row with tackle_binary_single = 1 \n",
    "for _, row in tackle_rows_train.iterrows():\n",
    "    gamePlayId = row['gamePlayId']\n",
    "    nflId = row['nflId']\n",
    "    frameId = row['frameId']\n",
    "\n",
    "    # Identify the rows to be updated based on gamePlayId, nflId, and frame\n",
    "    rows_to_update_train.extend(\n",
    "        train_df[\n",
    "            (train_df['gamePlayId'] == gamePlayId) &\n",
    "            (train_df['nflId'] == nflId) &\n",
    "            (train_df['frameId'] > frameId - frames_to_extend) \n",
    "        ].index\n",
    "    )\n",
    "    \n",
    "# Update the values in the identified rows\n",
    "train_df.loc[rows_to_update_train, extend_dv] = 1\n",
    "\n",
    "# Identify rows where tackle_binary_single is equal to 1\n",
    "tackle_rows_val = val_df[val_df[extend_dv] == 1]\n",
    "\n",
    "# Create a list to store the indices of rows to be updated\n",
    "rows_to_update_val = []\n",
    "\n",
    "# Get identifiers for each row with tackle_binary_single = 1 \n",
    "for _, row in tackle_rows_val.iterrows():\n",
    "    gamePlayId = row['gamePlayId']\n",
    "    nflId = row['nflId']\n",
    "    frameId = row['frameId']\n",
    "\n",
    "    # Identify the rows to be updated based on gamePlayId, nflId, and frame\n",
    "    rows_to_update_val.extend(\n",
    "        val_df[\n",
    "            (val_df['gamePlayId'] == gamePlayId) &\n",
    "            (val_df['nflId'] == nflId) &\n",
    "            (val_df['frameId'] > frameId - frames_to_extend) \n",
    "        ].index\n",
    "    )\n",
    "    \n",
    "# Update the values in the identified rows\n",
    "val_df.loc[rows_to_update_val, 'tackle_binary_single'] = 1"
   ],
   "metadata": {
    "collapsed": false,
    "ExecuteTime": {
     "end_time": "2024-01-07T00:52:36.833896Z",
     "start_time": "2024-01-07T00:52:20.215013Z"
    }
   },
   "id": "9025da79a3417050"
  },
  {
   "cell_type": "markdown",
   "source": [
    "### Identify which columns to keep and drop, update dataframes"
   ],
   "metadata": {
    "collapsed": false
   },
   "id": "71d45531aca2a243"
  },
  {
   "cell_type": "code",
   "execution_count": 6,
   "outputs": [],
   "source": [
    "used_dv = ['tackle_binary_single']\n",
    "all_dv = ['tackle_binary_all','tackle_nonbinary_all','tackle_nonbinary_single', 'tackle_binary_single']\n",
    "cols_to_drop = ['gameId', 'playId', 'frameId', 'nflId'] + all_dv \n",
    "\n",
    "x_train = train_df.drop(columns = cols_to_drop)\n",
    "x_val = val_df.drop(columns = cols_to_drop)\n",
    "\n",
    "y_train = train_df[used_dv]\n",
    "y_val = val_df[used_dv]"
   ],
   "metadata": {
    "collapsed": false,
    "ExecuteTime": {
     "end_time": "2024-01-07T00:50:01.014849Z",
     "start_time": "2024-01-07T00:50:00.987229Z"
    }
   },
   "id": "2a0ecb9e00cf0ee7"
  },
  {
   "cell_type": "markdown",
   "source": [
    "### Convert object variables to category variables"
   ],
   "metadata": {
    "collapsed": false,
    "ExecuteTime": {
     "end_time": "2024-01-07T00:52:36.882539Z",
     "start_time": "2024-01-07T00:52:36.851372Z"
    }
   },
   "id": "6e297d379566ec57"
  },
  {
   "cell_type": "code",
   "execution_count": 7,
   "outputs": [],
   "source": [
    "object_cols = x_train.select_dtypes(include='object').dtypes.index\n",
    "\n",
    "x_train[object_cols] = x_train[object_cols].astype('category')\n",
    "x_val[object_cols] = x_val[object_cols].astype('category')"
   ],
   "metadata": {
    "collapsed": false,
    "ExecuteTime": {
     "end_time": "2024-01-07T00:50:01.138515Z",
     "start_time": "2024-01-07T00:50:01.015019Z"
    }
   },
   "id": "cd1628366d75cc19"
  },
  {
   "cell_type": "markdown",
   "source": [
    "### Prepare datasets to pass into model"
   ],
   "metadata": {
    "collapsed": false,
    "ExecuteTime": {
     "end_time": "2024-01-07T00:52:37.009256Z",
     "start_time": "2024-01-07T00:52:36.883169Z"
    }
   },
   "id": "559a10be52df911"
  },
  {
   "cell_type": "code",
   "execution_count": 8,
   "outputs": [],
   "source": [
    "# Ensure observations of a play within a game are grouped together\n",
    "group_sizes_train = x_train.groupby('gamePlayId').size().tolist()\n",
    "group_sizes_val = x_val.groupby('gamePlayId').size().tolist()\n",
    "\n",
    "x_train = x_train.drop(columns = 'gamePlayId')\n",
    "x_val = x_val.drop(columns = 'gamePlayId')\n",
    "\n",
    "# Convert data into DMatrix format (XGBoost's internal data structure)\n",
    "dtrain = xgb.DMatrix(x_train, label=y_train, enable_categorical=True, group=group_sizes_train)\n",
    "dval = xgb.DMatrix(x_val, label=y_val, enable_categorical=True, group=group_sizes_val)"
   ],
   "metadata": {
    "collapsed": false,
    "ExecuteTime": {
     "end_time": "2024-01-07T00:50:01.298038Z",
     "start_time": "2024-01-07T00:50:01.139410Z"
    }
   },
   "id": "10893854f04e8374"
  },
  {
   "cell_type": "markdown",
   "source": [
    "### Create XGBoost model"
   ],
   "metadata": {
    "collapsed": false,
    "ExecuteTime": {
     "end_time": "2024-01-07T00:52:45.182318Z",
     "start_time": "2024-01-07T00:52:45.019170Z"
    }
   },
   "id": "719fd7f7e0570e5e"
  },
  {
   "cell_type": "code",
   "execution_count": 9,
   "outputs": [
    {
     "name": "stdout",
     "output_type": "stream",
     "text": [
      "[0]\ttrain-logloss:0.20575\tvalidation-logloss:0.20644\n",
      "[1]\ttrain-logloss:0.19781\tvalidation-logloss:0.19852\n",
      "[2]\ttrain-logloss:0.19050\tvalidation-logloss:0.19123\n",
      "[3]\ttrain-logloss:0.18374\tvalidation-logloss:0.18453\n",
      "[4]\ttrain-logloss:0.17752\tvalidation-logloss:0.17833\n",
      "[5]\ttrain-logloss:0.17171\tvalidation-logloss:0.17258\n",
      "[6]\ttrain-logloss:0.16633\tvalidation-logloss:0.16721\n",
      "[7]\ttrain-logloss:0.16125\tvalidation-logloss:0.16213\n",
      "[8]\ttrain-logloss:0.15647\tvalidation-logloss:0.15744\n",
      "[9]\ttrain-logloss:0.15205\tvalidation-logloss:0.15306\n",
      "[10]\ttrain-logloss:0.14790\tvalidation-logloss:0.14890\n",
      "[11]\ttrain-logloss:0.14401\tvalidation-logloss:0.14506\n",
      "[12]\ttrain-logloss:0.14037\tvalidation-logloss:0.14148\n",
      "[13]\ttrain-logloss:0.13690\tvalidation-logloss:0.13804\n",
      "[14]\ttrain-logloss:0.13366\tvalidation-logloss:0.13483\n",
      "[15]\ttrain-logloss:0.13060\tvalidation-logloss:0.13183\n",
      "[16]\ttrain-logloss:0.12774\tvalidation-logloss:0.12902\n",
      "[17]\ttrain-logloss:0.12500\tvalidation-logloss:0.12630\n",
      "[18]\ttrain-logloss:0.12244\tvalidation-logloss:0.12377\n",
      "[19]\ttrain-logloss:0.12001\tvalidation-logloss:0.12137\n",
      "[20]\ttrain-logloss:0.11773\tvalidation-logloss:0.11912\n",
      "[21]\ttrain-logloss:0.11553\tvalidation-logloss:0.11698\n",
      "[22]\ttrain-logloss:0.11351\tvalidation-logloss:0.11499\n",
      "[23]\ttrain-logloss:0.11161\tvalidation-logloss:0.11309\n",
      "[24]\ttrain-logloss:0.10977\tvalidation-logloss:0.11132\n",
      "[25]\ttrain-logloss:0.10795\tvalidation-logloss:0.10953\n",
      "[26]\ttrain-logloss:0.10633\tvalidation-logloss:0.10797\n",
      "[27]\ttrain-logloss:0.10477\tvalidation-logloss:0.10645\n",
      "[28]\ttrain-logloss:0.10326\tvalidation-logloss:0.10498\n",
      "[29]\ttrain-logloss:0.10186\tvalidation-logloss:0.10360\n",
      "[30]\ttrain-logloss:0.10053\tvalidation-logloss:0.10229\n",
      "[31]\ttrain-logloss:0.09926\tvalidation-logloss:0.10108\n",
      "[32]\ttrain-logloss:0.09804\tvalidation-logloss:0.09990\n",
      "[33]\ttrain-logloss:0.09690\tvalidation-logloss:0.09878\n",
      "[34]\ttrain-logloss:0.09577\tvalidation-logloss:0.09770\n",
      "[35]\ttrain-logloss:0.09477\tvalidation-logloss:0.09671\n",
      "[36]\ttrain-logloss:0.09380\tvalidation-logloss:0.09576\n",
      "[37]\ttrain-logloss:0.09280\tvalidation-logloss:0.09478\n",
      "[38]\ttrain-logloss:0.09191\tvalidation-logloss:0.09391\n",
      "[39]\ttrain-logloss:0.09109\tvalidation-logloss:0.09313\n",
      "[40]\ttrain-logloss:0.09027\tvalidation-logloss:0.09233\n",
      "[41]\ttrain-logloss:0.08949\tvalidation-logloss:0.09157\n",
      "[42]\ttrain-logloss:0.08876\tvalidation-logloss:0.09086\n",
      "[43]\ttrain-logloss:0.08803\tvalidation-logloss:0.09016\n",
      "[44]\ttrain-logloss:0.08730\tvalidation-logloss:0.08946\n",
      "[45]\ttrain-logloss:0.08667\tvalidation-logloss:0.08886\n",
      "[46]\ttrain-logloss:0.08603\tvalidation-logloss:0.08823\n",
      "[47]\ttrain-logloss:0.08542\tvalidation-logloss:0.08769\n",
      "[48]\ttrain-logloss:0.08485\tvalidation-logloss:0.08717\n",
      "[49]\ttrain-logloss:0.08432\tvalidation-logloss:0.08667\n",
      "[50]\ttrain-logloss:0.08378\tvalidation-logloss:0.08616\n",
      "[51]\ttrain-logloss:0.08328\tvalidation-logloss:0.08571\n",
      "[52]\ttrain-logloss:0.08282\tvalidation-logloss:0.08529\n",
      "[53]\ttrain-logloss:0.08235\tvalidation-logloss:0.08484\n",
      "[54]\ttrain-logloss:0.08195\tvalidation-logloss:0.08448\n",
      "[55]\ttrain-logloss:0.08153\tvalidation-logloss:0.08412\n",
      "[56]\ttrain-logloss:0.08109\tvalidation-logloss:0.08368\n",
      "[57]\ttrain-logloss:0.08072\tvalidation-logloss:0.08334\n",
      "[58]\ttrain-logloss:0.08037\tvalidation-logloss:0.08299\n",
      "[59]\ttrain-logloss:0.08004\tvalidation-logloss:0.08269\n",
      "[60]\ttrain-logloss:0.07973\tvalidation-logloss:0.08240\n",
      "[61]\ttrain-logloss:0.07938\tvalidation-logloss:0.08208\n",
      "[62]\ttrain-logloss:0.07908\tvalidation-logloss:0.08180\n",
      "[63]\ttrain-logloss:0.07875\tvalidation-logloss:0.08151\n",
      "[64]\ttrain-logloss:0.07847\tvalidation-logloss:0.08126\n",
      "[65]\ttrain-logloss:0.07821\tvalidation-logloss:0.08101\n",
      "[66]\ttrain-logloss:0.07795\tvalidation-logloss:0.08076\n",
      "[67]\ttrain-logloss:0.07772\tvalidation-logloss:0.08054\n",
      "[68]\ttrain-logloss:0.07746\tvalidation-logloss:0.08029\n",
      "[69]\ttrain-logloss:0.07722\tvalidation-logloss:0.08010\n",
      "[70]\ttrain-logloss:0.07700\tvalidation-logloss:0.07991\n",
      "[71]\ttrain-logloss:0.07677\tvalidation-logloss:0.07971\n",
      "[72]\ttrain-logloss:0.07657\tvalidation-logloss:0.07954\n",
      "[73]\ttrain-logloss:0.07636\tvalidation-logloss:0.07939\n",
      "[74]\ttrain-logloss:0.07612\tvalidation-logloss:0.07916\n",
      "[75]\ttrain-logloss:0.07594\tvalidation-logloss:0.07904\n",
      "[76]\ttrain-logloss:0.07576\tvalidation-logloss:0.07892\n",
      "[77]\ttrain-logloss:0.07559\tvalidation-logloss:0.07875\n",
      "[78]\ttrain-logloss:0.07545\tvalidation-logloss:0.07862\n",
      "[79]\ttrain-logloss:0.07529\tvalidation-logloss:0.07849\n",
      "[80]\ttrain-logloss:0.07512\tvalidation-logloss:0.07832\n",
      "[81]\ttrain-logloss:0.07498\tvalidation-logloss:0.07820\n",
      "[82]\ttrain-logloss:0.07483\tvalidation-logloss:0.07811\n",
      "[83]\ttrain-logloss:0.07468\tvalidation-logloss:0.07798\n",
      "[84]\ttrain-logloss:0.07457\tvalidation-logloss:0.07787\n",
      "[85]\ttrain-logloss:0.07444\tvalidation-logloss:0.07779\n",
      "[86]\ttrain-logloss:0.07431\tvalidation-logloss:0.07769\n",
      "[87]\ttrain-logloss:0.07419\tvalidation-logloss:0.07757\n",
      "[88]\ttrain-logloss:0.07409\tvalidation-logloss:0.07752\n",
      "[89]\ttrain-logloss:0.07397\tvalidation-logloss:0.07741\n",
      "[90]\ttrain-logloss:0.07383\tvalidation-logloss:0.07726\n",
      "[91]\ttrain-logloss:0.07373\tvalidation-logloss:0.07724\n",
      "[92]\ttrain-logloss:0.07362\tvalidation-logloss:0.07714\n",
      "[93]\ttrain-logloss:0.07352\tvalidation-logloss:0.07715\n",
      "[94]\ttrain-logloss:0.07342\tvalidation-logloss:0.07703\n",
      "[95]\ttrain-logloss:0.07334\tvalidation-logloss:0.07703\n",
      "[96]\ttrain-logloss:0.07324\tvalidation-logloss:0.07696\n",
      "[97]\ttrain-logloss:0.07314\tvalidation-logloss:0.07685\n",
      "[98]\ttrain-logloss:0.07307\tvalidation-logloss:0.07680\n",
      "[99]\ttrain-logloss:0.07300\tvalidation-logloss:0.07678\n",
      "[100]\ttrain-logloss:0.07290\tvalidation-logloss:0.07675\n",
      "[101]\ttrain-logloss:0.07283\tvalidation-logloss:0.07674\n",
      "[102]\ttrain-logloss:0.07275\tvalidation-logloss:0.07668\n",
      "[103]\ttrain-logloss:0.07264\tvalidation-logloss:0.07659\n",
      "[104]\ttrain-logloss:0.07258\tvalidation-logloss:0.07652\n",
      "[105]\ttrain-logloss:0.07248\tvalidation-logloss:0.07642\n",
      "[106]\ttrain-logloss:0.07240\tvalidation-logloss:0.07637\n",
      "[107]\ttrain-logloss:0.07229\tvalidation-logloss:0.07630\n",
      "[108]\ttrain-logloss:0.07224\tvalidation-logloss:0.07630\n",
      "[109]\ttrain-logloss:0.07215\tvalidation-logloss:0.07620\n",
      "[110]\ttrain-logloss:0.07208\tvalidation-logloss:0.07613\n",
      "[111]\ttrain-logloss:0.07197\tvalidation-logloss:0.07600\n",
      "[112]\ttrain-logloss:0.07189\tvalidation-logloss:0.07591\n",
      "[113]\ttrain-logloss:0.07183\tvalidation-logloss:0.07586\n",
      "[114]\ttrain-logloss:0.07175\tvalidation-logloss:0.07582\n",
      "[115]\ttrain-logloss:0.07167\tvalidation-logloss:0.07572\n",
      "[116]\ttrain-logloss:0.07162\tvalidation-logloss:0.07568\n",
      "[117]\ttrain-logloss:0.07151\tvalidation-logloss:0.07562\n",
      "[118]\ttrain-logloss:0.07140\tvalidation-logloss:0.07557\n",
      "[119]\ttrain-logloss:0.07131\tvalidation-logloss:0.07554\n",
      "[120]\ttrain-logloss:0.07117\tvalidation-logloss:0.07545\n",
      "[121]\ttrain-logloss:0.07111\tvalidation-logloss:0.07544\n",
      "[122]\ttrain-logloss:0.07103\tvalidation-logloss:0.07538\n",
      "[123]\ttrain-logloss:0.07097\tvalidation-logloss:0.07532\n",
      "[124]\ttrain-logloss:0.07088\tvalidation-logloss:0.07532\n",
      "[125]\ttrain-logloss:0.07077\tvalidation-logloss:0.07527\n",
      "[126]\ttrain-logloss:0.07069\tvalidation-logloss:0.07522\n",
      "[127]\ttrain-logloss:0.07061\tvalidation-logloss:0.07517\n",
      "[128]\ttrain-logloss:0.07054\tvalidation-logloss:0.07509\n",
      "[129]\ttrain-logloss:0.07044\tvalidation-logloss:0.07502\n",
      "[130]\ttrain-logloss:0.07035\tvalidation-logloss:0.07495\n",
      "[131]\ttrain-logloss:0.07025\tvalidation-logloss:0.07495\n",
      "[132]\ttrain-logloss:0.07019\tvalidation-logloss:0.07492\n",
      "[133]\ttrain-logloss:0.07014\tvalidation-logloss:0.07492\n",
      "[134]\ttrain-logloss:0.07007\tvalidation-logloss:0.07489\n",
      "[135]\ttrain-logloss:0.06997\tvalidation-logloss:0.07484\n",
      "[136]\ttrain-logloss:0.06994\tvalidation-logloss:0.07480\n",
      "[137]\ttrain-logloss:0.06989\tvalidation-logloss:0.07477\n",
      "[138]\ttrain-logloss:0.06985\tvalidation-logloss:0.07479\n",
      "[139]\ttrain-logloss:0.06976\tvalidation-logloss:0.07471\n",
      "[140]\ttrain-logloss:0.06969\tvalidation-logloss:0.07465\n",
      "[141]\ttrain-logloss:0.06961\tvalidation-logloss:0.07457\n",
      "[142]\ttrain-logloss:0.06952\tvalidation-logloss:0.07455\n",
      "[143]\ttrain-logloss:0.06940\tvalidation-logloss:0.07441\n",
      "[144]\ttrain-logloss:0.06933\tvalidation-logloss:0.07438\n",
      "[145]\ttrain-logloss:0.06926\tvalidation-logloss:0.07435\n",
      "[146]\ttrain-logloss:0.06918\tvalidation-logloss:0.07436\n",
      "[147]\ttrain-logloss:0.06913\tvalidation-logloss:0.07432\n",
      "[148]\ttrain-logloss:0.06905\tvalidation-logloss:0.07423\n",
      "[149]\ttrain-logloss:0.06897\tvalidation-logloss:0.07426\n",
      "[150]\ttrain-logloss:0.06886\tvalidation-logloss:0.07417\n",
      "[151]\ttrain-logloss:0.06880\tvalidation-logloss:0.07416\n",
      "[152]\ttrain-logloss:0.06872\tvalidation-logloss:0.07415\n",
      "[153]\ttrain-logloss:0.06860\tvalidation-logloss:0.07407\n",
      "[154]\ttrain-logloss:0.06856\tvalidation-logloss:0.07405\n",
      "[155]\ttrain-logloss:0.06852\tvalidation-logloss:0.07402\n",
      "[156]\ttrain-logloss:0.06840\tvalidation-logloss:0.07397\n",
      "[157]\ttrain-logloss:0.06837\tvalidation-logloss:0.07399\n",
      "[158]\ttrain-logloss:0.06831\tvalidation-logloss:0.07394\n",
      "[159]\ttrain-logloss:0.06826\tvalidation-logloss:0.07392\n",
      "[160]\ttrain-logloss:0.06817\tvalidation-logloss:0.07387\n",
      "[161]\ttrain-logloss:0.06813\tvalidation-logloss:0.07383\n",
      "[162]\ttrain-logloss:0.06805\tvalidation-logloss:0.07378\n",
      "[163]\ttrain-logloss:0.06797\tvalidation-logloss:0.07373\n",
      "[164]\ttrain-logloss:0.06790\tvalidation-logloss:0.07370\n",
      "[165]\ttrain-logloss:0.06786\tvalidation-logloss:0.07367\n",
      "[166]\ttrain-logloss:0.06774\tvalidation-logloss:0.07355\n",
      "[167]\ttrain-logloss:0.06771\tvalidation-logloss:0.07353\n",
      "[168]\ttrain-logloss:0.06766\tvalidation-logloss:0.07351\n",
      "[169]\ttrain-logloss:0.06759\tvalidation-logloss:0.07353\n",
      "[170]\ttrain-logloss:0.06756\tvalidation-logloss:0.07350\n",
      "[171]\ttrain-logloss:0.06752\tvalidation-logloss:0.07347\n",
      "[172]\ttrain-logloss:0.06744\tvalidation-logloss:0.07348\n",
      "[173]\ttrain-logloss:0.06739\tvalidation-logloss:0.07346\n",
      "[174]\ttrain-logloss:0.06731\tvalidation-logloss:0.07346\n",
      "[175]\ttrain-logloss:0.06723\tvalidation-logloss:0.07345\n",
      "[176]\ttrain-logloss:0.06714\tvalidation-logloss:0.07338\n",
      "[177]\ttrain-logloss:0.06706\tvalidation-logloss:0.07333\n",
      "[178]\ttrain-logloss:0.06698\tvalidation-logloss:0.07332\n",
      "[179]\ttrain-logloss:0.06696\tvalidation-logloss:0.07336\n",
      "[180]\ttrain-logloss:0.06686\tvalidation-logloss:0.07337\n",
      "[181]\ttrain-logloss:0.06679\tvalidation-logloss:0.07337\n",
      "[182]\ttrain-logloss:0.06674\tvalidation-logloss:0.07337\n",
      "[183]\ttrain-logloss:0.06669\tvalidation-logloss:0.07332\n",
      "[184]\ttrain-logloss:0.06662\tvalidation-logloss:0.07327\n",
      "[185]\ttrain-logloss:0.06660\tvalidation-logloss:0.07327\n",
      "[186]\ttrain-logloss:0.06657\tvalidation-logloss:0.07327\n",
      "[187]\ttrain-logloss:0.06648\tvalidation-logloss:0.07326\n",
      "[188]\ttrain-logloss:0.06642\tvalidation-logloss:0.07321\n",
      "[189]\ttrain-logloss:0.06639\tvalidation-logloss:0.07321\n",
      "[190]\ttrain-logloss:0.06636\tvalidation-logloss:0.07320\n",
      "[191]\ttrain-logloss:0.06629\tvalidation-logloss:0.07318\n",
      "[192]\ttrain-logloss:0.06621\tvalidation-logloss:0.07319\n",
      "[193]\ttrain-logloss:0.06614\tvalidation-logloss:0.07316\n",
      "[194]\ttrain-logloss:0.06610\tvalidation-logloss:0.07319\n",
      "[195]\ttrain-logloss:0.06607\tvalidation-logloss:0.07317\n",
      "[196]\ttrain-logloss:0.06598\tvalidation-logloss:0.07310\n",
      "[197]\ttrain-logloss:0.06590\tvalidation-logloss:0.07308\n",
      "[198]\ttrain-logloss:0.06584\tvalidation-logloss:0.07304\n",
      "[199]\ttrain-logloss:0.06582\tvalidation-logloss:0.07304\n",
      "[200]\ttrain-logloss:0.06580\tvalidation-logloss:0.07302\n",
      "[201]\ttrain-logloss:0.06573\tvalidation-logloss:0.07303\n",
      "[202]\ttrain-logloss:0.06565\tvalidation-logloss:0.07303\n",
      "[203]\ttrain-logloss:0.06557\tvalidation-logloss:0.07297\n",
      "[204]\ttrain-logloss:0.06547\tvalidation-logloss:0.07296\n",
      "[205]\ttrain-logloss:0.06538\tvalidation-logloss:0.07296\n",
      "[206]\ttrain-logloss:0.06530\tvalidation-logloss:0.07293\n",
      "[207]\ttrain-logloss:0.06523\tvalidation-logloss:0.07287\n",
      "[208]\ttrain-logloss:0.06516\tvalidation-logloss:0.07286\n",
      "[209]\ttrain-logloss:0.06509\tvalidation-logloss:0.07281\n",
      "[210]\ttrain-logloss:0.06505\tvalidation-logloss:0.07283\n",
      "[211]\ttrain-logloss:0.06499\tvalidation-logloss:0.07277\n",
      "[212]\ttrain-logloss:0.06495\tvalidation-logloss:0.07277\n",
      "[213]\ttrain-logloss:0.06489\tvalidation-logloss:0.07281\n",
      "[214]\ttrain-logloss:0.06485\tvalidation-logloss:0.07280\n",
      "[215]\ttrain-logloss:0.06481\tvalidation-logloss:0.07278\n",
      "[216]\ttrain-logloss:0.06477\tvalidation-logloss:0.07276\n",
      "[217]\ttrain-logloss:0.06471\tvalidation-logloss:0.07274\n",
      "[218]\ttrain-logloss:0.06464\tvalidation-logloss:0.07268\n",
      "[219]\ttrain-logloss:0.06457\tvalidation-logloss:0.07264\n",
      "[220]\ttrain-logloss:0.06451\tvalidation-logloss:0.07259\n",
      "[221]\ttrain-logloss:0.06446\tvalidation-logloss:0.07260\n",
      "[222]\ttrain-logloss:0.06442\tvalidation-logloss:0.07254\n",
      "[223]\ttrain-logloss:0.06437\tvalidation-logloss:0.07251\n",
      "[224]\ttrain-logloss:0.06435\tvalidation-logloss:0.07251\n",
      "[225]\ttrain-logloss:0.06429\tvalidation-logloss:0.07248\n",
      "[226]\ttrain-logloss:0.06425\tvalidation-logloss:0.07246\n",
      "[227]\ttrain-logloss:0.06418\tvalidation-logloss:0.07240\n",
      "[228]\ttrain-logloss:0.06409\tvalidation-logloss:0.07233\n",
      "[229]\ttrain-logloss:0.06406\tvalidation-logloss:0.07233\n",
      "[230]\ttrain-logloss:0.06400\tvalidation-logloss:0.07228\n",
      "[231]\ttrain-logloss:0.06398\tvalidation-logloss:0.07227\n",
      "[232]\ttrain-logloss:0.06391\tvalidation-logloss:0.07223\n",
      "[233]\ttrain-logloss:0.06387\tvalidation-logloss:0.07226\n",
      "[234]\ttrain-logloss:0.06380\tvalidation-logloss:0.07220\n",
      "[235]\ttrain-logloss:0.06376\tvalidation-logloss:0.07218\n",
      "[236]\ttrain-logloss:0.06370\tvalidation-logloss:0.07212\n",
      "[237]\ttrain-logloss:0.06365\tvalidation-logloss:0.07209\n",
      "[238]\ttrain-logloss:0.06355\tvalidation-logloss:0.07206\n",
      "[239]\ttrain-logloss:0.06351\tvalidation-logloss:0.07206\n",
      "[240]\ttrain-logloss:0.06347\tvalidation-logloss:0.07205\n",
      "[241]\ttrain-logloss:0.06339\tvalidation-logloss:0.07206\n",
      "[242]\ttrain-logloss:0.06334\tvalidation-logloss:0.07207\n",
      "[243]\ttrain-logloss:0.06327\tvalidation-logloss:0.07209\n",
      "[244]\ttrain-logloss:0.06321\tvalidation-logloss:0.07207\n",
      "[245]\ttrain-logloss:0.06316\tvalidation-logloss:0.07203\n",
      "[246]\ttrain-logloss:0.06310\tvalidation-logloss:0.07200\n",
      "[247]\ttrain-logloss:0.06303\tvalidation-logloss:0.07198\n",
      "[248]\ttrain-logloss:0.06298\tvalidation-logloss:0.07197\n",
      "[249]\ttrain-logloss:0.06287\tvalidation-logloss:0.07191\n",
      "[250]\ttrain-logloss:0.06281\tvalidation-logloss:0.07189\n",
      "[251]\ttrain-logloss:0.06274\tvalidation-logloss:0.07183\n",
      "[252]\ttrain-logloss:0.06267\tvalidation-logloss:0.07181\n",
      "[253]\ttrain-logloss:0.06264\tvalidation-logloss:0.07175\n",
      "[254]\ttrain-logloss:0.06256\tvalidation-logloss:0.07178\n",
      "[255]\ttrain-logloss:0.06252\tvalidation-logloss:0.07177\n",
      "[256]\ttrain-logloss:0.06251\tvalidation-logloss:0.07177\n",
      "[257]\ttrain-logloss:0.06247\tvalidation-logloss:0.07178\n",
      "[258]\ttrain-logloss:0.06242\tvalidation-logloss:0.07177\n",
      "[259]\ttrain-logloss:0.06235\tvalidation-logloss:0.07176\n",
      "[260]\ttrain-logloss:0.06228\tvalidation-logloss:0.07173\n",
      "[261]\ttrain-logloss:0.06219\tvalidation-logloss:0.07171\n",
      "[262]\ttrain-logloss:0.06216\tvalidation-logloss:0.07169\n",
      "[263]\ttrain-logloss:0.06210\tvalidation-logloss:0.07168\n",
      "[264]\ttrain-logloss:0.06209\tvalidation-logloss:0.07168\n",
      "[265]\ttrain-logloss:0.06203\tvalidation-logloss:0.07166\n",
      "[266]\ttrain-logloss:0.06200\tvalidation-logloss:0.07166\n",
      "[267]\ttrain-logloss:0.06196\tvalidation-logloss:0.07164\n",
      "[268]\ttrain-logloss:0.06188\tvalidation-logloss:0.07160\n",
      "[269]\ttrain-logloss:0.06184\tvalidation-logloss:0.07157\n",
      "[270]\ttrain-logloss:0.06180\tvalidation-logloss:0.07155\n",
      "[271]\ttrain-logloss:0.06175\tvalidation-logloss:0.07154\n",
      "[272]\ttrain-logloss:0.06170\tvalidation-logloss:0.07152\n",
      "[273]\ttrain-logloss:0.06162\tvalidation-logloss:0.07151\n",
      "[274]\ttrain-logloss:0.06157\tvalidation-logloss:0.07151\n",
      "[275]\ttrain-logloss:0.06150\tvalidation-logloss:0.07147\n",
      "[276]\ttrain-logloss:0.06143\tvalidation-logloss:0.07145\n",
      "[277]\ttrain-logloss:0.06134\tvalidation-logloss:0.07138\n",
      "[278]\ttrain-logloss:0.06131\tvalidation-logloss:0.07138\n",
      "[279]\ttrain-logloss:0.06128\tvalidation-logloss:0.07137\n",
      "[280]\ttrain-logloss:0.06125\tvalidation-logloss:0.07133\n",
      "[281]\ttrain-logloss:0.06120\tvalidation-logloss:0.07130\n",
      "[282]\ttrain-logloss:0.06116\tvalidation-logloss:0.07128\n",
      "[283]\ttrain-logloss:0.06109\tvalidation-logloss:0.07123\n",
      "[284]\ttrain-logloss:0.06108\tvalidation-logloss:0.07123\n",
      "[285]\ttrain-logloss:0.06102\tvalidation-logloss:0.07124\n",
      "[286]\ttrain-logloss:0.06096\tvalidation-logloss:0.07122\n",
      "[287]\ttrain-logloss:0.06090\tvalidation-logloss:0.07121\n",
      "[288]\ttrain-logloss:0.06087\tvalidation-logloss:0.07120\n",
      "[289]\ttrain-logloss:0.06082\tvalidation-logloss:0.07118\n",
      "[290]\ttrain-logloss:0.06077\tvalidation-logloss:0.07118\n",
      "[291]\ttrain-logloss:0.06071\tvalidation-logloss:0.07114\n",
      "[292]\ttrain-logloss:0.06070\tvalidation-logloss:0.07114\n",
      "[293]\ttrain-logloss:0.06065\tvalidation-logloss:0.07113\n",
      "[294]\ttrain-logloss:0.06061\tvalidation-logloss:0.07111\n",
      "[295]\ttrain-logloss:0.06056\tvalidation-logloss:0.07109\n",
      "[296]\ttrain-logloss:0.06049\tvalidation-logloss:0.07106\n",
      "[297]\ttrain-logloss:0.06040\tvalidation-logloss:0.07101\n",
      "[298]\ttrain-logloss:0.06035\tvalidation-logloss:0.07100\n",
      "[299]\ttrain-logloss:0.06031\tvalidation-logloss:0.07097\n",
      "[300]\ttrain-logloss:0.06023\tvalidation-logloss:0.07092\n",
      "[301]\ttrain-logloss:0.06019\tvalidation-logloss:0.07097\n",
      "[302]\ttrain-logloss:0.06016\tvalidation-logloss:0.07094\n",
      "[303]\ttrain-logloss:0.06010\tvalidation-logloss:0.07091\n",
      "[304]\ttrain-logloss:0.06009\tvalidation-logloss:0.07091\n",
      "[305]\ttrain-logloss:0.06005\tvalidation-logloss:0.07089\n",
      "[306]\ttrain-logloss:0.05999\tvalidation-logloss:0.07088\n",
      "[307]\ttrain-logloss:0.05996\tvalidation-logloss:0.07088\n",
      "[308]\ttrain-logloss:0.05993\tvalidation-logloss:0.07086\n",
      "[309]\ttrain-logloss:0.05992\tvalidation-logloss:0.07087\n",
      "[310]\ttrain-logloss:0.05989\tvalidation-logloss:0.07084\n",
      "[311]\ttrain-logloss:0.05984\tvalidation-logloss:0.07081\n",
      "[312]\ttrain-logloss:0.05979\tvalidation-logloss:0.07077\n",
      "[313]\ttrain-logloss:0.05976\tvalidation-logloss:0.07074\n",
      "[314]\ttrain-logloss:0.05970\tvalidation-logloss:0.07072\n",
      "[315]\ttrain-logloss:0.05966\tvalidation-logloss:0.07071\n",
      "[316]\ttrain-logloss:0.05960\tvalidation-logloss:0.07069\n",
      "[317]\ttrain-logloss:0.05956\tvalidation-logloss:0.07065\n",
      "[318]\ttrain-logloss:0.05950\tvalidation-logloss:0.07063\n",
      "[319]\ttrain-logloss:0.05944\tvalidation-logloss:0.07059\n",
      "[320]\ttrain-logloss:0.05939\tvalidation-logloss:0.07057\n",
      "[321]\ttrain-logloss:0.05935\tvalidation-logloss:0.07055\n",
      "[322]\ttrain-logloss:0.05931\tvalidation-logloss:0.07053\n",
      "[323]\ttrain-logloss:0.05928\tvalidation-logloss:0.07054\n",
      "[324]\ttrain-logloss:0.05922\tvalidation-logloss:0.07052\n",
      "[325]\ttrain-logloss:0.05920\tvalidation-logloss:0.07056\n",
      "[326]\ttrain-logloss:0.05915\tvalidation-logloss:0.07055\n",
      "[327]\ttrain-logloss:0.05909\tvalidation-logloss:0.07050\n",
      "[328]\ttrain-logloss:0.05904\tvalidation-logloss:0.07053\n",
      "[329]\ttrain-logloss:0.05900\tvalidation-logloss:0.07051\n",
      "[330]\ttrain-logloss:0.05895\tvalidation-logloss:0.07050\n",
      "[331]\ttrain-logloss:0.05892\tvalidation-logloss:0.07049\n",
      "[332]\ttrain-logloss:0.05890\tvalidation-logloss:0.07045\n",
      "[333]\ttrain-logloss:0.05885\tvalidation-logloss:0.07043\n",
      "[334]\ttrain-logloss:0.05879\tvalidation-logloss:0.07043\n",
      "[335]\ttrain-logloss:0.05874\tvalidation-logloss:0.07040\n",
      "[336]\ttrain-logloss:0.05866\tvalidation-logloss:0.07040\n",
      "[337]\ttrain-logloss:0.05859\tvalidation-logloss:0.07040\n",
      "[338]\ttrain-logloss:0.05858\tvalidation-logloss:0.07040\n",
      "[339]\ttrain-logloss:0.05855\tvalidation-logloss:0.07037\n",
      "[340]\ttrain-logloss:0.05851\tvalidation-logloss:0.07036\n",
      "[341]\ttrain-logloss:0.05848\tvalidation-logloss:0.07036\n",
      "[342]\ttrain-logloss:0.05845\tvalidation-logloss:0.07034\n",
      "[343]\ttrain-logloss:0.05842\tvalidation-logloss:0.07031\n",
      "[344]\ttrain-logloss:0.05837\tvalidation-logloss:0.07028\n",
      "[345]\ttrain-logloss:0.05832\tvalidation-logloss:0.07028\n",
      "[346]\ttrain-logloss:0.05827\tvalidation-logloss:0.07026\n",
      "[347]\ttrain-logloss:0.05823\tvalidation-logloss:0.07024\n",
      "[348]\ttrain-logloss:0.05822\tvalidation-logloss:0.07026\n",
      "[349]\ttrain-logloss:0.05818\tvalidation-logloss:0.07023\n",
      "[350]\ttrain-logloss:0.05812\tvalidation-logloss:0.07018\n",
      "[351]\ttrain-logloss:0.05806\tvalidation-logloss:0.07018\n",
      "[352]\ttrain-logloss:0.05801\tvalidation-logloss:0.07015\n",
      "[353]\ttrain-logloss:0.05799\tvalidation-logloss:0.07015\n",
      "[354]\ttrain-logloss:0.05795\tvalidation-logloss:0.07012\n",
      "[355]\ttrain-logloss:0.05789\tvalidation-logloss:0.07008\n",
      "[356]\ttrain-logloss:0.05785\tvalidation-logloss:0.07008\n",
      "[357]\ttrain-logloss:0.05778\tvalidation-logloss:0.07006\n",
      "[358]\ttrain-logloss:0.05773\tvalidation-logloss:0.07002\n",
      "[359]\ttrain-logloss:0.05766\tvalidation-logloss:0.06997\n",
      "[360]\ttrain-logloss:0.05760\tvalidation-logloss:0.06995\n",
      "[361]\ttrain-logloss:0.05756\tvalidation-logloss:0.06994\n",
      "[362]\ttrain-logloss:0.05750\tvalidation-logloss:0.06992\n",
      "[363]\ttrain-logloss:0.05746\tvalidation-logloss:0.06988\n",
      "[364]\ttrain-logloss:0.05743\tvalidation-logloss:0.06987\n",
      "[365]\ttrain-logloss:0.05739\tvalidation-logloss:0.06985\n",
      "[366]\ttrain-logloss:0.05736\tvalidation-logloss:0.06983\n",
      "[367]\ttrain-logloss:0.05729\tvalidation-logloss:0.06978\n",
      "[368]\ttrain-logloss:0.05726\tvalidation-logloss:0.06980\n",
      "[369]\ttrain-logloss:0.05722\tvalidation-logloss:0.06978\n",
      "[370]\ttrain-logloss:0.05720\tvalidation-logloss:0.06977\n",
      "[371]\ttrain-logloss:0.05717\tvalidation-logloss:0.06979\n",
      "[372]\ttrain-logloss:0.05712\tvalidation-logloss:0.06974\n",
      "[373]\ttrain-logloss:0.05710\tvalidation-logloss:0.06974\n",
      "[374]\ttrain-logloss:0.05706\tvalidation-logloss:0.06977\n",
      "[375]\ttrain-logloss:0.05705\tvalidation-logloss:0.06977\n",
      "[376]\ttrain-logloss:0.05703\tvalidation-logloss:0.06974\n",
      "[377]\ttrain-logloss:0.05699\tvalidation-logloss:0.06972\n",
      "[378]\ttrain-logloss:0.05693\tvalidation-logloss:0.06970\n",
      "[379]\ttrain-logloss:0.05688\tvalidation-logloss:0.06968\n",
      "[380]\ttrain-logloss:0.05685\tvalidation-logloss:0.06968\n",
      "[381]\ttrain-logloss:0.05681\tvalidation-logloss:0.06967\n",
      "[382]\ttrain-logloss:0.05675\tvalidation-logloss:0.06965\n",
      "[383]\ttrain-logloss:0.05673\tvalidation-logloss:0.06965\n",
      "[384]\ttrain-logloss:0.05670\tvalidation-logloss:0.06959\n",
      "[385]\ttrain-logloss:0.05666\tvalidation-logloss:0.06958\n",
      "[386]\ttrain-logloss:0.05662\tvalidation-logloss:0.06956\n",
      "[387]\ttrain-logloss:0.05659\tvalidation-logloss:0.06955\n",
      "[388]\ttrain-logloss:0.05654\tvalidation-logloss:0.06952\n",
      "[389]\ttrain-logloss:0.05654\tvalidation-logloss:0.06953\n",
      "[390]\ttrain-logloss:0.05650\tvalidation-logloss:0.06952\n",
      "[391]\ttrain-logloss:0.05644\tvalidation-logloss:0.06949\n",
      "[392]\ttrain-logloss:0.05643\tvalidation-logloss:0.06949\n",
      "[393]\ttrain-logloss:0.05637\tvalidation-logloss:0.06948\n",
      "[394]\ttrain-logloss:0.05633\tvalidation-logloss:0.06948\n",
      "[395]\ttrain-logloss:0.05626\tvalidation-logloss:0.06947\n",
      "[396]\ttrain-logloss:0.05620\tvalidation-logloss:0.06944\n",
      "[397]\ttrain-logloss:0.05616\tvalidation-logloss:0.06941\n",
      "[398]\ttrain-logloss:0.05613\tvalidation-logloss:0.06939\n",
      "[399]\ttrain-logloss:0.05609\tvalidation-logloss:0.06937\n",
      "[400]\ttrain-logloss:0.05605\tvalidation-logloss:0.06936\n",
      "[401]\ttrain-logloss:0.05602\tvalidation-logloss:0.06935\n",
      "[402]\ttrain-logloss:0.05595\tvalidation-logloss:0.06936\n",
      "[403]\ttrain-logloss:0.05592\tvalidation-logloss:0.06931\n",
      "[404]\ttrain-logloss:0.05588\tvalidation-logloss:0.06930\n",
      "[405]\ttrain-logloss:0.05582\tvalidation-logloss:0.06930\n",
      "[406]\ttrain-logloss:0.05579\tvalidation-logloss:0.06929\n",
      "[407]\ttrain-logloss:0.05576\tvalidation-logloss:0.06928\n",
      "[408]\ttrain-logloss:0.05571\tvalidation-logloss:0.06926\n",
      "[409]\ttrain-logloss:0.05566\tvalidation-logloss:0.06924\n",
      "[410]\ttrain-logloss:0.05564\tvalidation-logloss:0.06923\n",
      "[411]\ttrain-logloss:0.05562\tvalidation-logloss:0.06922\n",
      "[412]\ttrain-logloss:0.05555\tvalidation-logloss:0.06918\n",
      "[413]\ttrain-logloss:0.05547\tvalidation-logloss:0.06912\n",
      "[414]\ttrain-logloss:0.05542\tvalidation-logloss:0.06910\n",
      "[415]\ttrain-logloss:0.05538\tvalidation-logloss:0.06908\n",
      "[416]\ttrain-logloss:0.05534\tvalidation-logloss:0.06906\n",
      "[417]\ttrain-logloss:0.05531\tvalidation-logloss:0.06907\n",
      "[418]\ttrain-logloss:0.05526\tvalidation-logloss:0.06904\n",
      "[419]\ttrain-logloss:0.05523\tvalidation-logloss:0.06906\n",
      "[420]\ttrain-logloss:0.05521\tvalidation-logloss:0.06903\n",
      "[421]\ttrain-logloss:0.05516\tvalidation-logloss:0.06904\n",
      "[422]\ttrain-logloss:0.05513\tvalidation-logloss:0.06906\n",
      "[423]\ttrain-logloss:0.05506\tvalidation-logloss:0.06903\n",
      "[424]\ttrain-logloss:0.05505\tvalidation-logloss:0.06904\n",
      "[425]\ttrain-logloss:0.05498\tvalidation-logloss:0.06903\n",
      "[426]\ttrain-logloss:0.05498\tvalidation-logloss:0.06904\n",
      "[427]\ttrain-logloss:0.05494\tvalidation-logloss:0.06901\n",
      "[428]\ttrain-logloss:0.05492\tvalidation-logloss:0.06900\n",
      "[429]\ttrain-logloss:0.05489\tvalidation-logloss:0.06901\n",
      "[430]\ttrain-logloss:0.05486\tvalidation-logloss:0.06899\n",
      "[431]\ttrain-logloss:0.05481\tvalidation-logloss:0.06894\n",
      "[432]\ttrain-logloss:0.05480\tvalidation-logloss:0.06894\n",
      "[433]\ttrain-logloss:0.05475\tvalidation-logloss:0.06892\n",
      "[434]\ttrain-logloss:0.05472\tvalidation-logloss:0.06892\n",
      "[435]\ttrain-logloss:0.05471\tvalidation-logloss:0.06892\n",
      "[436]\ttrain-logloss:0.05469\tvalidation-logloss:0.06892\n",
      "[437]\ttrain-logloss:0.05466\tvalidation-logloss:0.06892\n",
      "[438]\ttrain-logloss:0.05461\tvalidation-logloss:0.06890\n",
      "[439]\ttrain-logloss:0.05456\tvalidation-logloss:0.06888\n",
      "[440]\ttrain-logloss:0.05454\tvalidation-logloss:0.06887\n",
      "[441]\ttrain-logloss:0.05452\tvalidation-logloss:0.06888\n",
      "[442]\ttrain-logloss:0.05449\tvalidation-logloss:0.06888\n",
      "[443]\ttrain-logloss:0.05445\tvalidation-logloss:0.06887\n",
      "[444]\ttrain-logloss:0.05440\tvalidation-logloss:0.06894\n",
      "[445]\ttrain-logloss:0.05436\tvalidation-logloss:0.06892\n",
      "[446]\ttrain-logloss:0.05435\tvalidation-logloss:0.06891\n",
      "[447]\ttrain-logloss:0.05432\tvalidation-logloss:0.06890\n",
      "[448]\ttrain-logloss:0.05430\tvalidation-logloss:0.06889\n",
      "[449]\ttrain-logloss:0.05425\tvalidation-logloss:0.06887\n",
      "[450]\ttrain-logloss:0.05420\tvalidation-logloss:0.06883\n",
      "[451]\ttrain-logloss:0.05415\tvalidation-logloss:0.06880\n",
      "[452]\ttrain-logloss:0.05412\tvalidation-logloss:0.06880\n",
      "[453]\ttrain-logloss:0.05408\tvalidation-logloss:0.06879\n",
      "[454]\ttrain-logloss:0.05404\tvalidation-logloss:0.06882\n",
      "[455]\ttrain-logloss:0.05399\tvalidation-logloss:0.06880\n",
      "[456]\ttrain-logloss:0.05397\tvalidation-logloss:0.06879\n",
      "[457]\ttrain-logloss:0.05394\tvalidation-logloss:0.06879\n",
      "[458]\ttrain-logloss:0.05390\tvalidation-logloss:0.06874\n",
      "[459]\ttrain-logloss:0.05385\tvalidation-logloss:0.06873\n",
      "[460]\ttrain-logloss:0.05381\tvalidation-logloss:0.06869\n",
      "[461]\ttrain-logloss:0.05376\tvalidation-logloss:0.06873\n",
      "[462]\ttrain-logloss:0.05373\tvalidation-logloss:0.06873\n",
      "[463]\ttrain-logloss:0.05369\tvalidation-logloss:0.06874\n",
      "[464]\ttrain-logloss:0.05367\tvalidation-logloss:0.06871\n",
      "[465]\ttrain-logloss:0.05364\tvalidation-logloss:0.06870\n",
      "[466]\ttrain-logloss:0.05361\tvalidation-logloss:0.06869\n",
      "[467]\ttrain-logloss:0.05360\tvalidation-logloss:0.06870\n",
      "[468]\ttrain-logloss:0.05354\tvalidation-logloss:0.06866\n",
      "[469]\ttrain-logloss:0.05350\tvalidation-logloss:0.06864\n",
      "[470]\ttrain-logloss:0.05346\tvalidation-logloss:0.06862\n",
      "[471]\ttrain-logloss:0.05340\tvalidation-logloss:0.06859\n",
      "[472]\ttrain-logloss:0.05336\tvalidation-logloss:0.06858\n",
      "[473]\ttrain-logloss:0.05331\tvalidation-logloss:0.06857\n",
      "[474]\ttrain-logloss:0.05327\tvalidation-logloss:0.06858\n",
      "[475]\ttrain-logloss:0.05325\tvalidation-logloss:0.06857\n",
      "[476]\ttrain-logloss:0.05321\tvalidation-logloss:0.06854\n",
      "[477]\ttrain-logloss:0.05316\tvalidation-logloss:0.06854\n",
      "[478]\ttrain-logloss:0.05313\tvalidation-logloss:0.06851\n",
      "[479]\ttrain-logloss:0.05309\tvalidation-logloss:0.06851\n",
      "[480]\ttrain-logloss:0.05304\tvalidation-logloss:0.06849\n",
      "[481]\ttrain-logloss:0.05299\tvalidation-logloss:0.06848\n",
      "[482]\ttrain-logloss:0.05294\tvalidation-logloss:0.06844\n",
      "[483]\ttrain-logloss:0.05292\tvalidation-logloss:0.06843\n",
      "[484]\ttrain-logloss:0.05286\tvalidation-logloss:0.06846\n",
      "[485]\ttrain-logloss:0.05281\tvalidation-logloss:0.06844\n",
      "[486]\ttrain-logloss:0.05278\tvalidation-logloss:0.06842\n",
      "[487]\ttrain-logloss:0.05273\tvalidation-logloss:0.06837\n",
      "[488]\ttrain-logloss:0.05270\tvalidation-logloss:0.06836\n",
      "[489]\ttrain-logloss:0.05270\tvalidation-logloss:0.06835\n",
      "[490]\ttrain-logloss:0.05267\tvalidation-logloss:0.06836\n",
      "[491]\ttrain-logloss:0.05265\tvalidation-logloss:0.06837\n",
      "[492]\ttrain-logloss:0.05263\tvalidation-logloss:0.06838\n",
      "[493]\ttrain-logloss:0.05259\tvalidation-logloss:0.06839\n",
      "[494]\ttrain-logloss:0.05255\tvalidation-logloss:0.06838\n",
      "[495]\ttrain-logloss:0.05252\tvalidation-logloss:0.06835\n",
      "[496]\ttrain-logloss:0.05247\tvalidation-logloss:0.06834\n",
      "[497]\ttrain-logloss:0.05243\tvalidation-logloss:0.06832\n",
      "[498]\ttrain-logloss:0.05242\tvalidation-logloss:0.06834\n",
      "[499]\ttrain-logloss:0.05238\tvalidation-logloss:0.06835\n",
      "[500]\ttrain-logloss:0.05235\tvalidation-logloss:0.06834\n",
      "[501]\ttrain-logloss:0.05231\tvalidation-logloss:0.06833\n",
      "[502]\ttrain-logloss:0.05225\tvalidation-logloss:0.06832\n",
      "[503]\ttrain-logloss:0.05220\tvalidation-logloss:0.06832\n",
      "[504]\ttrain-logloss:0.05215\tvalidation-logloss:0.06830\n",
      "[505]\ttrain-logloss:0.05212\tvalidation-logloss:0.06830\n",
      "[506]\ttrain-logloss:0.05208\tvalidation-logloss:0.06832\n",
      "[507]\ttrain-logloss:0.05203\tvalidation-logloss:0.06829\n",
      "[508]\ttrain-logloss:0.05200\tvalidation-logloss:0.06829\n",
      "[509]\ttrain-logloss:0.05196\tvalidation-logloss:0.06825\n",
      "[510]\ttrain-logloss:0.05191\tvalidation-logloss:0.06823\n",
      "[511]\ttrain-logloss:0.05185\tvalidation-logloss:0.06827\n",
      "[512]\ttrain-logloss:0.05182\tvalidation-logloss:0.06828\n",
      "[513]\ttrain-logloss:0.05176\tvalidation-logloss:0.06827\n",
      "[514]\ttrain-logloss:0.05172\tvalidation-logloss:0.06825\n",
      "[515]\ttrain-logloss:0.05169\tvalidation-logloss:0.06823\n",
      "[516]\ttrain-logloss:0.05164\tvalidation-logloss:0.06819\n",
      "[517]\ttrain-logloss:0.05164\tvalidation-logloss:0.06819\n",
      "[518]\ttrain-logloss:0.05160\tvalidation-logloss:0.06816\n",
      "[519]\ttrain-logloss:0.05155\tvalidation-logloss:0.06815\n",
      "[520]\ttrain-logloss:0.05151\tvalidation-logloss:0.06811\n",
      "[521]\ttrain-logloss:0.05149\tvalidation-logloss:0.06810\n",
      "[522]\ttrain-logloss:0.05144\tvalidation-logloss:0.06811\n",
      "[523]\ttrain-logloss:0.05139\tvalidation-logloss:0.06810\n",
      "[524]\ttrain-logloss:0.05135\tvalidation-logloss:0.06808\n",
      "[525]\ttrain-logloss:0.05129\tvalidation-logloss:0.06809\n",
      "[526]\ttrain-logloss:0.05125\tvalidation-logloss:0.06806\n",
      "[527]\ttrain-logloss:0.05121\tvalidation-logloss:0.06805\n",
      "[528]\ttrain-logloss:0.05119\tvalidation-logloss:0.06803\n",
      "[529]\ttrain-logloss:0.05115\tvalidation-logloss:0.06805\n",
      "[530]\ttrain-logloss:0.05111\tvalidation-logloss:0.06805\n",
      "[531]\ttrain-logloss:0.05107\tvalidation-logloss:0.06804\n",
      "[532]\ttrain-logloss:0.05105\tvalidation-logloss:0.06805\n",
      "[533]\ttrain-logloss:0.05102\tvalidation-logloss:0.06804\n",
      "[534]\ttrain-logloss:0.05098\tvalidation-logloss:0.06802\n",
      "[535]\ttrain-logloss:0.05093\tvalidation-logloss:0.06801\n",
      "[536]\ttrain-logloss:0.05088\tvalidation-logloss:0.06801\n",
      "[537]\ttrain-logloss:0.05084\tvalidation-logloss:0.06796\n",
      "[538]\ttrain-logloss:0.05082\tvalidation-logloss:0.06795\n",
      "[539]\ttrain-logloss:0.05079\tvalidation-logloss:0.06793\n",
      "[540]\ttrain-logloss:0.05077\tvalidation-logloss:0.06795\n",
      "[541]\ttrain-logloss:0.05076\tvalidation-logloss:0.06794\n",
      "[542]\ttrain-logloss:0.05072\tvalidation-logloss:0.06792\n",
      "[543]\ttrain-logloss:0.05069\tvalidation-logloss:0.06791\n",
      "[544]\ttrain-logloss:0.05066\tvalidation-logloss:0.06790\n",
      "[545]\ttrain-logloss:0.05061\tvalidation-logloss:0.06796\n",
      "[546]\ttrain-logloss:0.05056\tvalidation-logloss:0.06795\n",
      "[547]\ttrain-logloss:0.05054\tvalidation-logloss:0.06797\n",
      "[548]\ttrain-logloss:0.05051\tvalidation-logloss:0.06799\n",
      "[549]\ttrain-logloss:0.05051\tvalidation-logloss:0.06799\n",
      "[550]\ttrain-logloss:0.05046\tvalidation-logloss:0.06799\n",
      "[551]\ttrain-logloss:0.05043\tvalidation-logloss:0.06800\n",
      "[552]\ttrain-logloss:0.05039\tvalidation-logloss:0.06796\n",
      "[553]\ttrain-logloss:0.05035\tvalidation-logloss:0.06799\n"
     ]
    }
   ],
   "source": [
    "# Set hyperparameters for XGBoost model\n",
    "params = {\n",
    "    'objective': 'binary:logistic',  # for binary classification\n",
    "    'eval_metric': 'logloss',  # use logloss for binary classification problems todo: test between logloss, error, auc\n",
    "    'max_depth': 4,  # maximum depth of the tree\n",
    "    'eta': 0.05,  # learning rate\n",
    "    'subsample': 0.9,  # fraction of samples used for fitting the trees\n",
    "    'colsample_bytree': 0.9,  # fraction of features used for fitting the trees\n",
    "    'n_estimators': 140,\n",
    "    'gamma': 0.2,\n",
    "    'min_child_weight': 5,\n",
    "    'scale_pos_weight': 5\n",
    "}\n",
    "\n",
    "# Set hyperparameters for XGBoost model\n",
    "# params = {\n",
    "#     'objective': 'binary:logistic',  # for binary classification\n",
    "#     'eval_metric': 'logloss',  # use logloss for binary classification problems todo: test between logloss, error, auc\n",
    "#     'colsample_bytree': 0.8, \n",
    "#     'gamma': 0.4, \n",
    "#     'learning_rate': 0.1,\n",
    "#     'max_depth': 6, \n",
    "#     'min_child_weight': 10, \n",
    "#     'n_estimators': 180, \n",
    "#     'reg_alpha': 1, \n",
    "#     'reg_lambda': 0, \n",
    "#     'scale_pos_weight': 4, \n",
    "#     'subsample': 0.8\n",
    "# }\n",
    "\n",
    "# Train the XGBoost model with early stopping\n",
    "num_rounds = 1000  \n",
    "early_stopping_rounds = 10  \n",
    "\n",
    "# Specify the validation set for early stopping\n",
    "evals = [(dtrain, 'train'), (dval, 'validation')]\n",
    "\n",
    "# Define the model\n",
    "model = xgb.train(params, dtrain, num_rounds, evals=evals, early_stopping_rounds=early_stopping_rounds)"
   ],
   "metadata": {
    "collapsed": false,
    "ExecuteTime": {
     "end_time": "2024-01-07T00:50:08.840486Z",
     "start_time": "2024-01-07T00:50:01.299914Z"
    }
   },
   "id": "c652699fb5cc4720"
  },
  {
   "cell_type": "markdown",
   "source": [
    "### Model evaluation"
   ],
   "metadata": {
    "collapsed": false,
    "ExecuteTime": {
     "end_time": "2024-01-07T00:52:53.468732Z",
     "start_time": "2024-01-07T00:52:46.112897Z"
    }
   },
   "id": "25033426d211b34f"
  },
  {
   "cell_type": "code",
   "execution_count": 10,
   "outputs": [
    {
     "name": "stdout",
     "output_type": "stream",
     "text": [
      "Accuracy: 0.9683, Precision: 0.3556, Recall: 0.6157, F1-Score: 0.4508, ROC AUC: 0.7958\n",
      "\n",
      "              precision    recall  f1-score   support\n",
      "\n",
      "           0       0.99      0.98      0.98     80586\n",
      "           1       0.36      0.62      0.45      1738\n",
      "\n",
      "    accuracy                           0.97     82324\n",
      "   macro avg       0.67      0.80      0.72     82324\n",
      "weighted avg       0.98      0.97      0.97     82324\n"
     ]
    }
   ],
   "source": [
    "# Evaluate the model\n",
    "predictions = model.predict(dval)\n",
    "binary_predictions = [1 if p > 0.5 else 0 for p in predictions]\n",
    "\n",
    "# Evaluate metrics\n",
    "accuracy = accuracy_score(y_val, binary_predictions)\n",
    "precision = precision_score(y_val, binary_predictions)\n",
    "recall = recall_score(y_val, binary_predictions)\n",
    "f1 = f1_score(y_val, binary_predictions)\n",
    "roc_auc = roc_auc_score(y_val, binary_predictions)\n",
    "\n",
    "print(f'Accuracy: {accuracy:.4f}, Precision: {precision:.4f}, Recall: {recall:.4f}, F1-Score: {f1:.4f}, ROC AUC: {roc_auc:.4f}\\n')\n",
    "\n",
    "print(classification_report(y_val, binary_predictions))"
   ],
   "metadata": {
    "collapsed": false,
    "ExecuteTime": {
     "end_time": "2024-01-07T00:50:09.106060Z",
     "start_time": "2024-01-07T00:50:08.841300Z"
    }
   },
   "id": "6b123109464ce870"
  },
  {
   "cell_type": "markdown",
   "source": [
    "### Visualize performance"
   ],
   "metadata": {
    "collapsed": false,
    "ExecuteTime": {
     "end_time": "2024-01-07T00:52:57.743969Z",
     "start_time": "2024-01-07T00:52:57.490597Z"
    }
   },
   "id": "b2b85ab12e6b6c92"
  },
  {
   "cell_type": "code",
   "execution_count": 11,
   "outputs": [
    {
     "data": {
      "text/plain": "<Figure size 640x480 with 1 Axes>",
      "image/png": "[encoded data removed]"
     },
     "metadata": {},
     "output_type": "display_data"
    },
    {
     "data": {
      "text/plain": "<Figure size 600x600 with 1 Axes>",
      "image/png": "[encoded data removed]"
     },
     "metadata": {},
     "output_type": "display_data"
    },
    {
     "data": {
      "text/plain": "<Figure size 640x480 with 2 Axes>",
      "image/png": "[encoded data removed]"
     },
     "metadata": {},
     "output_type": "display_data"
    },
    {
     "data": {
      "text/plain": "<Axes: title={'center': 'Feature importance'}, xlabel='F score', ylabel='Features'>"
     },
     "execution_count": 11,
     "metadata": {},
     "output_type": "execute_result"
    },
    {
     "data": {
      "text/plain": "<Figure size 640x480 with 1 Axes>",
      "image/png": "[encoded data removed]"
     },
     "metadata": {},
     "output_type": "display_data"
    }
   ],
   "source": [
    "# Calculate ROC curve\n",
    "fpr, tpr, _ = roc_curve(y_val, predictions)\n",
    "roc_auc = auc(fpr, tpr)\n",
    "\n",
    "# Plot ROC Curve\n",
    "plt.plot(fpr, tpr, color='darkorange', lw=2, label=f'ROC AUC = {roc_auc:.2f}')\n",
    "plt.plot([0, 1], [0, 1], color='navy', lw=2, linestyle='--')\n",
    "plt.xlabel('False Positive Rate')\n",
    "plt.ylabel('True Positive Rate')\n",
    "plt.title('ROC Curve')\n",
    "plt.legend(loc='lower right')\n",
    "\n",
    "# Calculate precision and recall\n",
    "precision, recall, thresholds = precision_recall_curve(y_val, predictions)\n",
    "area_under_pr_curve = auc(recall, precision)\n",
    "\n",
    "# Plotting the Precision-Recall Curve\n",
    "plt.figure(figsize=(6, 6))\n",
    "plt.plot(recall, precision, color='darkorange', lw=2, label=f'AUC-PR = {area_under_pr_curve:.2f}')\n",
    "plt.xlabel('Recall')\n",
    "plt.ylabel('Precision')\n",
    "plt.title('Precision-Recall Curve')\n",
    "plt.legend(loc='lower left')\n",
    "plt.show()\n",
    "\n",
    "# Calculate confusion matrix\n",
    "cm = confusion_matrix(y_val, binary_predictions) \n",
    "\n",
    "# Plot the confusion matrix\n",
    "disp = ConfusionMatrixDisplay(confusion_matrix=cm, display_labels=['No Tackle', 'Tackle'])\n",
    "disp.plot(cmap='Blues', values_format='d')\n",
    "plt.title('Confusion Matrix')\n",
    "plt.show()\n",
    "\n",
    "# Plot feature importance\n",
    "xgb.plot_importance(model, max_num_features=10, importance_type='weight')"
   ],
   "metadata": {
    "collapsed": false,
    "ExecuteTime": {
     "end_time": "2024-01-07T00:50:09.553375Z",
     "start_time": "2024-01-07T00:50:09.108321Z"
    }
   },
   "id": "63b83c92a7c3cc57"
  },
  {
   "cell_type": "markdown",
   "source": [
    "### Plot distribution of probabilities"
   ],
   "metadata": {
    "collapsed": false,
    "ExecuteTime": {
     "end_time": "2024-01-07T00:52:58.948328Z",
     "start_time": "2024-01-07T00:52:58.595668Z"
    }
   },
   "id": "a3856325454d6685"
  },
  {
   "cell_type": "code",
   "execution_count": 12,
   "outputs": [
    {
     "data": {
      "text/plain": "(array([412., 434., 399., 388., 387., 315., 263., 215., 119.,  77.]),\n array([0.50013357, 0.54776025, 0.59538686, 0.64301348, 0.69064015,\n        0.73826683, 0.78589344, 0.83352005, 0.88114673, 0.9287734 ,\n        0.97640002]),\n <BarContainer object of 10 artists>)"
     },
     "execution_count": 12,
     "metadata": {},
     "output_type": "execute_result"
    },
    {
     "data": {
      "text/plain": "<Figure size 640x480 with 1 Axes>",
      "image/png": "[encoded data removed]"
     },
     "metadata": {},
     "output_type": "display_data"
    }
   ],
   "source": [
    "plt.hist(predictions[predictions > .5])"
   ],
   "metadata": {
    "collapsed": false,
    "ExecuteTime": {
     "end_time": "2024-01-07T00:50:09.616408Z",
     "start_time": "2024-01-07T00:50:09.553290Z"
    }
   },
   "id": "b128d8d4dfc0d99c"
  },
  {
   "cell_type": "markdown",
   "source": [
    "### Evaluate ability to identify a tackle in extended tackle frames"
   ],
   "metadata": {
    "collapsed": false,
    "ExecuteTime": {
     "end_time": "2024-01-07T00:53:00.053563Z",
     "start_time": "2024-01-07T00:52:59.920503Z"
    }
   },
   "id": "67ee63320e446fa2"
  },
  {
   "cell_type": "code",
   "execution_count": 13,
   "outputs": [],
   "source": [
    "# Make binary predictions into a dataframe\n",
    "binary_predictions_eval = pd.DataFrame(binary_predictions).rename(columns={0 : 'prediction'})\n",
    "\n",
    "# Merge true labels output to predictions dataframe\n",
    "binary_predictions_eval = binary_predictions_eval.merge(y_val, left_index = True, right_index = True, how = 'inner')\n",
    "\n",
    "# Evaluate times it predicted tackle in any of the frames where tackle was extended\n",
    "num_correct_tackle = 0\n",
    "\n",
    "# Loop over eval_df \n",
    "for idx, row in eval_df.iterrows():\n",
    "    # If tackle = 1, see if predicted a tackle on any of frames we extended tackle to for training\n",
    "    if row['tackle_binary_single'] == 1:\n",
    "        # Check if any of the previous 'frames_to_extend' frames have a prediction of 1\n",
    "        if any(binary_predictions_eval.loc[idx - i, 'prediction'] == 1 for i in range(0, frames_to_extend)):\n",
    "            num_correct_tackle += 1"
   ],
   "metadata": {
    "collapsed": false,
    "ExecuteTime": {
     "end_time": "2024-01-07T00:50:09.657604Z",
     "start_time": "2024-01-07T00:50:09.626393Z"
    }
   },
   "id": "10fef8a6b6b6935c"
  },
  {
   "cell_type": "markdown",
   "source": [
    "### Display results of being able to identify a tackle"
   ],
   "metadata": {
    "collapsed": false,
    "ExecuteTime": {
     "end_time": "2024-01-07T00:53:01.010496Z",
     "start_time": "2024-01-07T00:53:00.996857Z"
    }
   },
   "id": "d46a4551ffe054ab"
  },
  {
   "cell_type": "code",
   "execution_count": 14,
   "outputs": [
    {
     "name": "stdout",
     "output_type": "stream",
     "text": [
      "Percentage of true tackles :  0.7514285714285714 \n",
      "Percentage of missed tackles:  0.24857142857142855\n"
     ]
    }
   ],
   "source": [
    "num_true_tackle = eval_df.tackle_binary_single.sum()\n",
    "\n",
    "perc_true_tackle = num_correct_tackle / num_true_tackle\n",
    "perc_missed_tackle = 1 - perc_true_tackle\n",
    "\n",
    "print(\"Percentage of true tackles : \", perc_true_tackle, '\\nPercentage of missed tackles: ', perc_missed_tackle)"
   ],
   "metadata": {
    "collapsed": false,
    "ExecuteTime": {
     "end_time": "2024-01-07T00:50:09.657789Z",
     "start_time": "2024-01-07T00:50:09.642193Z"
    }
   },
   "id": "b0deda1c4171408"
  },
  {
   "cell_type": "markdown",
   "source": [
    "### Merge all information together"
   ],
   "metadata": {
    "collapsed": false,
    "ExecuteTime": {
     "end_time": "2024-01-07T00:53:02.364556Z",
     "start_time": "2024-01-07T00:53:02.359742Z"
    }
   },
   "id": "1644942b37cceaaf"
  },
  {
   "cell_type": "code",
   "execution_count": 15,
   "outputs": [
    {
     "data": {
      "text/plain": "               gamePlayId        gameId  playId    nflId  frameId  \\\n0      2022090800.01385.0  2.022091e+09  1385.0  37075.0     18.0   \n1      2022090800.01385.0  2.022091e+09  1385.0  37075.0     19.0   \n2      2022090800.01385.0  2.022091e+09  1385.0  37075.0     20.0   \n3      2022090800.01385.0  2.022091e+09  1385.0  37075.0     21.0   \n4      2022090800.01385.0  2.022091e+09  1385.0  37075.0     22.0   \n...                   ...           ...     ...      ...      ...   \n82319  2022110700.03278.0  2.022111e+09  3278.0  54479.0     36.0   \n82320  2022110700.03278.0  2.022111e+09  3278.0  54479.0     37.0   \n82321  2022110700.03278.0  2.022111e+09  3278.0  54479.0     38.0   \n82322  2022110700.03278.0  2.022111e+09  3278.0  54479.0     39.0   \n82323  2022110700.03278.0  2.022111e+09  3278.0  54479.0     40.0   \n\n       tackle_binary_single  prediction  \n0                         0    0.000162  \n1                         0    0.000125  \n2                         0    0.000103  \n3                         0    0.000109  \n4                         0    0.000101  \n...                     ...         ...  \n82319                     0    0.000033  \n82320                     0    0.000037  \n82321                     0    0.000046  \n82322                     0    0.000044  \n82323                     0    0.000047  \n\n[82324 rows x 7 columns]",
      "text/html": "<div>\n<style scoped>\n    .dataframe tbody tr th:only-of-type {\n        vertical-align: middle;\n    }\n\n    .dataframe tbody tr th {\n        vertical-align: top;\n    }\n\n    .dataframe thead th {\n        text-align: right;\n    }\n</style>\n<table border=\"1\" class=\"dataframe\">\n  <thead>\n    <tr style=\"text-align: right;\">\n      <th></th>\n      <th>gamePlayId</th>\n      <th>gameId</th>\n      <th>playId</th>\n      <th>nflId</th>\n      <th>frameId</th>\n      <th>tackle_binary_single</th>\n      <th>prediction</th>\n    </tr>\n  </thead>\n  <tbody>\n    <tr>\n      <th>0</th>\n      <td>2022090800.01385.0</td>\n      <td>2.022091e+09</td>\n      <td>1385.0</td>\n      <td>37075.0</td>\n      <td>18.0</td>\n      <td>0</td>\n      <td>0.000162</td>\n    </tr>\n    <tr>\n      <th>1</th>\n      <td>2022090800.01385.0</td>\n      <td>2.022091e+09</td>\n      <td>1385.0</td>\n      <td>37075.0</td>\n      <td>19.0</td>\n      <td>0</td>\n      <td>0.000125</td>\n    </tr>\n    <tr>\n      <th>2</th>\n      <td>2022090800.01385.0</td>\n      <td>2.022091e+09</td>\n      <td>1385.0</td>\n      <td>37075.0</td>\n      <td>20.0</td>\n      <td>0</td>\n      <td>0.000103</td>\n    </tr>\n    <tr>\n      <th>3</th>\n      <td>2022090800.01385.0</td>\n      <td>2.022091e+09</td>\n      <td>1385.0</td>\n      <td>37075.0</td>\n      <td>21.0</td>\n      <td>0</td>\n      <td>0.000109</td>\n    </tr>\n    <tr>\n      <th>4</th>\n      <td>2022090800.01385.0</td>\n      <td>2.022091e+09</td>\n      <td>1385.0</td>\n      <td>37075.0</td>\n      <td>22.0</td>\n      <td>0</td>\n      <td>0.000101</td>\n    </tr>\n    <tr>\n      <th>...</th>\n      <td>...</td>\n      <td>...</td>\n      <td>...</td>\n      <td>...</td>\n      <td>...</td>\n      <td>...</td>\n      <td>...</td>\n    </tr>\n    <tr>\n      <th>82319</th>\n      <td>2022110700.03278.0</td>\n      <td>2.022111e+09</td>\n      <td>3278.0</td>\n      <td>54479.0</td>\n      <td>36.0</td>\n      <td>0</td>\n      <td>0.000033</td>\n    </tr>\n    <tr>\n      <th>82320</th>\n      <td>2022110700.03278.0</td>\n      <td>2.022111e+09</td>\n      <td>3278.0</td>\n      <td>54479.0</td>\n      <td>37.0</td>\n      <td>0</td>\n      <td>0.000037</td>\n    </tr>\n    <tr>\n      <th>82321</th>\n      <td>2022110700.03278.0</td>\n      <td>2.022111e+09</td>\n      <td>3278.0</td>\n      <td>54479.0</td>\n      <td>38.0</td>\n      <td>0</td>\n      <td>0.000046</td>\n    </tr>\n    <tr>\n      <th>82322</th>\n      <td>2022110700.03278.0</td>\n      <td>2.022111e+09</td>\n      <td>3278.0</td>\n      <td>54479.0</td>\n      <td>39.0</td>\n      <td>0</td>\n      <td>0.000044</td>\n    </tr>\n    <tr>\n      <th>82323</th>\n      <td>2022110700.03278.0</td>\n      <td>2.022111e+09</td>\n      <td>3278.0</td>\n      <td>54479.0</td>\n      <td>40.0</td>\n      <td>0</td>\n      <td>0.000047</td>\n    </tr>\n  </tbody>\n</table>\n<p>82324 rows × 7 columns</p>\n</div>"
     },
     "execution_count": 15,
     "metadata": {},
     "output_type": "execute_result"
    }
   ],
   "source": [
    "# Merge probabilities back to original \n",
    "val_df_final = val_df.merge(pd.DataFrame(predictions), left_index=True, right_index=True, how='inner').rename(columns={0 : 'prediction'})\n",
    "val_df_final = val_df_final[['gamePlayId','gameId','playId','nflId','frameId','tackle_binary_single','prediction']]\n",
    "\n",
    "val_df_final"
   ],
   "metadata": {
    "collapsed": false,
    "ExecuteTime": {
     "end_time": "2024-01-07T00:50:09.697574Z",
     "start_time": "2024-01-07T00:50:09.645198Z"
    }
   },
   "id": "fdfd94dde8c6eb86"
  },
  {
   "cell_type": "markdown",
   "source": [
    "### Additional histograms to see how probabilities are distributed in different instances"
   ],
   "metadata": {
    "collapsed": false,
    "ExecuteTime": {
     "end_time": "2024-01-07T00:53:03.765852Z",
     "start_time": "2024-01-07T00:53:03.721771Z"
    }
   },
   "id": "46e071184771ecbe"
  },
  {
   "cell_type": "code",
   "execution_count": 16,
   "outputs": [
    {
     "data": {
      "text/plain": "(array([141., 100.,  90., 147., 162., 211., 224., 297., 238., 128.]),\n array([0.00225651, 0.09967086, 0.1970852 , 0.29449955, 0.39191392,\n        0.48932827, 0.58674264, 0.68415695, 0.78157133, 0.87898564,\n        0.97640002]),\n <BarContainer object of 10 artists>)"
     },
     "execution_count": 16,
     "metadata": {},
     "output_type": "execute_result"
    },
    {
     "data": {
      "text/plain": "<Figure size 640x480 with 1 Axes>",
      "image/png": "[encoded data removed]"
     },
     "metadata": {},
     "output_type": "display_data"
    }
   ],
   "source": [
    "probs_for_tackles = val_df_final[val_df_final['tackle_binary_single'] == 1]\n",
    "plt.hist(probs_for_tackles.prediction, bins = 10)"
   ],
   "metadata": {
    "collapsed": false,
    "ExecuteTime": {
     "end_time": "2024-01-07T00:50:09.753208Z",
     "start_time": "2024-01-07T00:50:09.679836Z"
    }
   },
   "id": "dfd84de6bb7745d5"
  },
  {
   "cell_type": "code",
   "execution_count": 53,
   "outputs": [
    {
     "data": {
      "text/plain": "(array([25., 19., 19., 24., 24., 40., 44., 61., 55., 39.]),\n array([0.00267208, 0.09988351, 0.19709495, 0.29430637, 0.39151782,\n        0.48872924, 0.58594066, 0.68315208, 0.78036356, 0.87757498,\n        0.9747864 ]),\n <BarContainer object of 10 artists>)"
     },
     "execution_count": 53,
     "metadata": {},
     "output_type": "execute_result"
    },
    {
     "data": {
      "text/plain": "<Figure size 640x480 with 1 Axes>",
      "image/png": "[encoded data removed]"
     },
     "metadata": {},
     "output_type": "display_data"
    }
   ],
   "source": [
    "probs_no_tackles = val_df_final[val_df_final['tackle_binary_single'] == 0]\n",
    "plt.hist(probs_no_tackles.prediction, bins = 10)"
   ],
   "metadata": {
    "collapsed": false,
    "ExecuteTime": {
     "end_time": "2024-01-07T00:53:04.792574Z",
     "start_time": "2024-01-07T00:53:04.705806Z"
    }
   },
   "id": "224f7276305ce004"
  },
  {
   "cell_type": "code",
   "execution_count": 54,
   "outputs": [
    {
     "data": {
      "text/plain": "(array([73972.,  1893.,  1263.,  1091.,   879.,   827.,   772.,   678.,\n          431.,   168.]),\n array([5.48641174e-06, 9.76421461e-02, 1.95278808e-01, 2.92915463e-01,\n        3.90552104e-01, 4.88188773e-01, 5.85825443e-01, 6.83462083e-01,\n        7.81098723e-01, 8.78735423e-01, 9.76372063e-01]),\n <BarContainer object of 10 artists>)"
     },
     "execution_count": 54,
     "metadata": {},
     "output_type": "execute_result"
    },
    {
     "data": {
      "text/plain": "<Figure size 640x480 with 1 Axes>",
      "image/png": "[encoded data removed]"
     },
     "metadata": {},
     "output_type": "display_data"
    }
   ],
   "source": [
    "probs_over_50 = val_df_final[val_df_final['prediction'] >= 0.5]\n",
    "plt.hist(probs_over_50.prediction, bins = 10)"
   ],
   "metadata": {
    "collapsed": false,
    "ExecuteTime": {
     "end_time": "2024-01-07T00:53:05.686262Z",
     "start_time": "2024-01-07T00:53:05.605595Z"
    }
   },
   "id": "cda206b2694aebe1"
  },
  {
   "cell_type": "code",
   "execution_count": 55,
   "outputs": [
    {
     "data": {
      "text/plain": "(array([413., 425., 403., 381., 394., 317., 259., 214., 121.,  77.]),\n array([0.500054  , 0.5476858 , 0.5953176 , 0.6429494 , 0.6905812 ,\n        0.73821306, 0.78584486, 0.83347666, 0.88110846, 0.92874026,\n        0.97637206]),\n <BarContainer object of 10 artists>)"
     },
     "execution_count": 55,
     "metadata": {},
     "output_type": "execute_result"
    },
    {
     "data": {
      "text/plain": "<Figure size 640x480 with 1 Axes>",
      "image/png": "[encoded data removed]"
     },
     "metadata": {},
     "output_type": "display_data"
    }
   ],
   "source": [
    "probs_under_50 = val_df_final[val_df_final['prediction'] < 0.5]\n",
    "plt.hist(probs_under_50.prediction, bins = 10)"
   ],
   "metadata": {
    "collapsed": false,
    "ExecuteTime": {
     "end_time": "2024-01-07T00:53:06.493373Z",
     "start_time": "2024-01-07T00:53:06.413046Z"
    }
   },
   "id": "25aff4961cc6f839"
  },
  {
   "cell_type": "markdown",
   "source": [
    "### Export results for write up"
   ],
   "metadata": {
    "collapsed": false,
    "ExecuteTime": {
     "end_time": "2024-01-07T00:53:09.546194Z",
     "start_time": "2024-01-07T00:53:09.465073Z"
    }
   },
   "id": "a4f2b158d7a2f63c"
  },
  {
   "cell_type": "code",
   "execution_count": 36,
   "outputs": [],
   "source": [
    "val_df_final.to_csv('model_results.csv', index=False)"
   ],
   "metadata": {
    "collapsed": false,
    "ExecuteTime": {
     "end_time": "2024-01-07T00:16:29.478398Z",
     "start_time": "2024-01-07T00:16:28.284303Z"
    }
   },
   "id": "7966a60b9d74a008"
  },
  {
   "cell_type": "code",
   "execution_count": 37,
   "outputs": [],
   "source": [],
   "metadata": {
    "collapsed": false,
    "ExecuteTime": {
     "end_time": "2024-01-07T00:51:48.703580Z",
     "start_time": "2024-01-07T00:51:48.513362Z"
    }
   },
   "id": "84685b0ccd1e5b31"
  }
 ],
 "metadata": {
  "kernelspec": {
   "display_name": "Python 3",
   "language": "python",
   "name": "python3"
  },
  "language_info": {
   "codemirror_mode": {
    "name": "ipython",
    "version": 2
   },
   "file_extension": ".py",
   "mimetype": "text/x-python",
   "name": "python",
   "nbconvert_exporter": "python",
   "pygments_lexer": "ipython2",
   "version": "2.7.6"
  }
 },
 "nbformat": 4,
 "nbformat_minor": 5
}
