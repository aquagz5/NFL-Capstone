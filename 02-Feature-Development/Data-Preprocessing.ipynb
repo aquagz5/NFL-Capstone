{
 "cells": [
  {
   "cell_type": "markdown",
   "id": "35c22747",
   "metadata": {},
   "source": [
    "# Data Preprocessing\n",
    "\n",
    "The following notebook will include function to handle preprocessing within our data including the following: \n",
    "\n",
    "- Our model training is only concerned with tracking data in which the ball carrier has actually been determined as the runner on the play, so we will remove all tracking data prior to a \n",
    "    - run (identified as a QB run), \n",
    "    - a handoff, or \n",
    "    - pass complete.\n",
    "- Once the play has ended, we will need to remove tracking data after one of the following events occurs:\n",
    "    - Out of bounds\n",
    "    - touchdown\n",
    "    - fumble\n",
    "    - qb_slide \n",
    "    - tackle"
   ]
  },
  {
   "cell_type": "code",
   "execution_count": 4,
   "id": "e966b7aa",
   "metadata": {
    "ExecuteTime": {
     "end_time": "2023-11-28T20:29:33.978930Z",
     "start_time": "2023-11-28T20:29:31.981459Z"
    }
   },
   "outputs": [],
   "source": [
    "#Import libraries\n",
    "import pandas as pd\n",
    "import numpy as np\n",
    "import missingno as msno\n",
    "import matplotlib.pyplot as plt\n",
    "import os\n",
    "import warnings\n",
    "from adjustText import adjust_text\n",
    "warnings.filterwarnings(\"ignore\")\n",
    "pd.set_option('display.max_columns', None)\n",
    "warnings.filterwarnings(\"ignore\")"
   ]
  },
  {
   "cell_type": "code",
   "execution_count": 5,
   "id": "dc905c68",
   "metadata": {
    "ExecuteTime": {
     "end_time": "2023-11-28T20:30:07.162537Z",
     "start_time": "2023-11-28T20:30:07.142820Z"
    }
   },
   "outputs": [],
   "source": [
    "def remove_tracking_issues(tracking):\n",
    "    #plays to remove with players that have tracking anamolies that show up in the accleration\n",
    "    plays_to_rem = tracking[(tracking[\"displayName\"]!=\"football\") & (tracking[\"a\"]>17)][[\"gameId\",\"playId\"]].drop_duplicates()\n",
    "    \n",
    "    # Perform an anti-join on 'key' column\n",
    "    anti_join_result = tracking.merge(plays_to_rem, on=[\"gameId\",\"playId\"], how='left', indicator=True).query('_merge == \"left_only\"')\n",
    "\n",
    "    # Drop the '_merge' column used for indicator and reset index\n",
    "    anti_join_result = anti_join_result.drop('_merge', axis=1).reset_index(drop=True)\n",
    "\n",
    "    return anti_join_result"
   ]
  },
  {
   "cell_type": "code",
   "execution_count": 6,
   "id": "127a0c8f",
   "metadata": {
    "ExecuteTime": {
     "end_time": "2023-11-28T20:30:07.547636Z",
     "start_time": "2023-11-28T20:30:07.537805Z"
    }
   },
   "outputs": [],
   "source": [
    "def remove_plays_with_mult_tackles(tracking,tackles):\n",
    "    duplicated_tackles = tackles[tackles[\"tackle\"]==1][[\"gameId\", \"playId\",\"nflId\"]].drop_duplicates()\n",
    "    plays_to_rem = duplicated_tackles[duplicated_tackles.duplicated(subset=['gameId', 'playId'], keep=False)][[\"gameId\", \"playId\"]]\n",
    "    \n",
    "    # Perform an anti-join on 'key' column\n",
    "    anti_join_result = tracking.merge(plays_to_rem, on=[\"gameId\",\"playId\"], how='left', indicator=True).query('_merge == \"left_only\"')\n",
    "\n",
    "    # Drop the '_merge' column used for indicator and reset index\n",
    "    anti_join_result = anti_join_result.drop('_merge', axis=1).reset_index(drop=True)\n",
    "    \n",
    "    return anti_join_result"
   ]
  },
  {
   "cell_type": "code",
   "execution_count": 7,
   "id": "6bd675c7",
   "metadata": {
    "ExecuteTime": {
     "end_time": "2023-11-28T20:30:07.866529Z",
     "start_time": "2023-11-28T20:30:07.855362Z"
    }
   },
   "outputs": [],
   "source": [
    "def standardize_field(tracking):\n",
    "    import pandas as pd\n",
    "    import numpy as np\n",
    "\n",
    "    # Applying the transformations\n",
    "    tracking['x'] = np.where(tracking['playDirection'] == 'left', 120 - tracking['x'], tracking['x'])\n",
    "    tracking['y'] = np.where(tracking['playDirection'] == 'left', 160/3 - tracking['y'], tracking['y'])\n",
    "    tracking['unitO'] = np.where(tracking['playDirection'] == 'left', (180 + tracking[\"unitO\"])%360, tracking['unitO'])\n",
    "    tracking['unitDir'] = np.where(tracking['playDirection'] == 'left',(180 + tracking[\"unitDir\"])%360 , tracking['unitDir'])\n",
    "\n",
    "    return tracking"
   ]
  },
  {
   "cell_type": "markdown",
   "id": "40fe37a4",
   "metadata": {},
   "source": [
    "## Filter Frames By Events\n",
    "\n",
    "Remember, the purpose of this model is to predict when a tackle occurs. The data that was given to us filtered data out based on non-ball carrier plays, such as pass incomplete and quarterback sacks. The focus of this data was to predict when a tackle was going to occur given their was a ball carrier on the play. For example, the quarterback is snapped the ball, but he is not deemed as the ball carrier right away because he will either pass the ball or hand it off. Once the quarterback has passed the ball, and the ball has been posssessed by a reciever, the reciever is now considered a ball carrier. Likewise, if the running back is handed the ball, they are not considered the ball carrier until they have recieved the ball. In the data, we could identify, that a quarterback has been deemed a runner rather than a passer when the event tag of \"run\" occurs on a given play. \n",
    "\n",
    "With all this said, we only want to build our model with the data that includes frames of a definitive ball carrier. Then we only want to consider frames when the tackle has occured or an appropriate event tag the signifies the end of a play. We can disregard all other frames after the play was completed. Thus, the purpose of this function is to take the tracking data and remove unneccessary frames at the end of the play and frames at the beginning of the play with no definitive ball carrier.\n",
    "\n",
    "Note: This function must be run after the creation of our dependent variable to account for the extra two frames that we added after a tagged \"tackle\"."
   ]
  },
  {
   "cell_type": "code",
   "execution_count": 1,
   "id": "33dd58e3",
   "metadata": {
    "ExecuteTime": {
     "end_time": "2023-11-28T20:30:08.092607Z",
     "start_time": "2023-11-28T20:30:08.078168Z"
    }
   },
   "outputs": [],
   "source": [
    "# filter_frames_by_events: function that takes tracking data and filters frames based on start and end tagged events defined\n",
    "#                          in the function. Uses tackle_multiple feature to add buffered frames for dependent variable\n",
    "# Input: tracking: tracking data\n",
    "# Output: tracking dataframe with filtered frames\n",
    "# Example usage: filtered_frames = filter_frames_by_events(tracking)\n",
    "def filter_frames_by_events(tracking):\n",
    "    # Define start and end events\n",
    "    start_events = ['run', 'handoff', 'pass_outcome_caught', 'lateral', 'snap_direct']\n",
    "    end_events = ['out_of_bounds', 'touchdown', 'fumble', 'qb_slide', 'tackle', 'safety']\n",
    "\n",
    "    # Function to filter frames for a single play\n",
    "    def filter_frames(play_data):\n",
    "        # Find the first frame of the start events\n",
    "        start_frame = play_data[play_data['event'].isin(start_events)]['frameId'].min()\n",
    "        \n",
    "        # Find the last frame before any of the end events\n",
    "        # If there is a tackle: we need to include the 2 frames after the play ended for the buffer\n",
    "        if (play_data[\"tackle_multiple\"] == 1.0).any():\n",
    "            end_frame = play_data[play_data[\"tackle_multiple\"] == 1.0]['frameId'].max()\n",
    "            \n",
    "        else:\n",
    "            end_frame = play_data[play_data['event'].isin(end_events)]['frameId'].min()\n",
    "\n",
    "        # If start_frame or end_frame is NaN, return an empty DataFrame\n",
    "        if pd.isna(start_frame) or pd.isna(end_frame):\n",
    "            return pd.DataFrame()\n",
    "        \n",
    "        # Filter the play_data for frames between start_frame and end_frame\n",
    "        return play_data[(play_data['frameId'] >= start_frame) & (play_data['frameId'] <= end_frame)]\n",
    "\n",
    "    # Group by game and play, apply the filter_frames function, and concatenate the results\n",
    "    filtered_data = tracking.groupby(['gameId', 'playId']).apply(filter_frames)\n",
    "    \n",
    "    # Reset the index and return the result\n",
    "    return filtered_data.reset_index(drop=True)"
   ]
  },
  {
   "cell_type": "code",
   "execution_count": 9,
   "id": "b22d8a48",
   "metadata": {
    "ExecuteTime": {
     "end_time": "2023-11-28T20:30:08.350960Z",
     "start_time": "2023-11-28T20:30:08.334225Z"
    }
   },
   "outputs": [],
   "source": [
    "def remove_football_frames(tracking):\n",
    "\n",
    "    # Remove rows where 'football' is found in the specified column\n",
    "    filtered_data = tracking[tracking['displayName']!= \"football\"]\n",
    "\n",
    "    return filtered_data"
   ]
  },
  {
   "cell_type": "code",
   "execution_count": 10,
   "id": "2a7ef03b",
   "metadata": {
    "ExecuteTime": {
     "end_time": "2023-11-28T20:30:09.046600Z",
     "start_time": "2023-11-28T20:30:09.029225Z"
    }
   },
   "outputs": [],
   "source": [
    "def remove_offensive_players(tracking,plays):\n",
    "    data = tracking.merge(plays[[\"gameId\",\"playId\",\"defensiveTeam\"]], how = \"inner\", on = [\"gameId\",\"playId\"])\n",
    "    return data[data[\"club\"]==data[\"defensiveTeam\"]]"
   ]
  }
 ],
 "metadata": {
  "kernelspec": {
   "display_name": "Python 3 (ipykernel)",
   "language": "python",
   "name": "python3"
  },
  "language_info": {
   "codemirror_mode": {
    "name": "ipython",
    "version": 3
   },
   "file_extension": ".py",
   "mimetype": "text/x-python",
   "name": "python",
   "nbconvert_exporter": "python",
   "pygments_lexer": "ipython3",
   "version": "3.9.12"
  }
 },
 "nbformat": 4,
 "nbformat_minor": 5
}
