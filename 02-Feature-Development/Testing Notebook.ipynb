{
 "cells": [
  {
   "cell_type": "code",
   "execution_count": 3,
   "id": "6fd2c9ab",
   "metadata": {},
   "outputs": [],
   "source": [
    "#Import libraries\n",
    "import pandas as pd\n",
    "import numpy as np\n",
    "import os\n",
    "import warnings\n",
    "import time\n",
    "import matplotlib.pyplot as plt\n",
    "warnings.filterwarnings(\"ignore\")\n",
    "pd.set_option('display.max_columns', None)\n",
    "\n",
    "\n",
    "#Import Data\n",
    "games = pd.read_csv(\"../Data/games.csv\")\n",
    "players = pd.read_csv(\"../Data/players.csv\")\n",
    "plays = pd.read_csv(\"../Data/plays.csv\")\n",
    "tackles = pd.read_csv(\"../Data/tackles.csv\")\n",
    "\n",
    "tracking_1 = pd.read_csv(\"../Data/tracking_week_1.csv\")"
   ]
  },
  {
   "cell_type": "code",
   "execution_count": 7,
   "id": "d1587095",
   "metadata": {},
   "outputs": [],
   "source": [
    "#run notebook\n",
    "%run Feature-Engineering.ipynb\n",
    "%run Data-Preprocessing.ipynb"
   ]
  },
  {
   "cell_type": "code",
   "execution_count": 5,
   "id": "53a34ff9",
   "metadata": {},
   "outputs": [
    {
     "name": "stdout",
     "output_type": "stream",
     "text": [
      "tackle_single variable done\n",
      "tackle_multiple done\n"
     ]
    }
   ],
   "source": [
    "tracking = tracking_1.merge(tackle_dependent_variable(tackles,tracking_1), on = [\"gameId\", \"playId\", \"nflId\", \"frameId\"])"
   ]
  },
  {
   "cell_type": "code",
   "execution_count": 9,
   "id": "ff8b80b3",
   "metadata": {},
   "outputs": [],
   "source": [
    "filtered_frames = filter_frames_by_events(tracking)"
   ]
  }
 ],
 "metadata": {
  "kernelspec": {
   "display_name": "Python 3 (ipykernel)",
   "language": "python",
   "name": "python3"
  },
  "language_info": {
   "codemirror_mode": {
    "name": "ipython",
    "version": 3
   },
   "file_extension": ".py",
   "mimetype": "text/x-python",
   "name": "python",
   "nbconvert_exporter": "python",
   "pygments_lexer": "ipython3",
   "version": "3.9.12"
  }
 },
 "nbformat": 4,
 "nbformat_minor": 5
}
