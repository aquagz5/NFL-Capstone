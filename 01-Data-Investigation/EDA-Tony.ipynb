{
 "cells": [
  {
   "cell_type": "code",
   "execution_count": 1,
   "id": "fd311800",
   "metadata": {},
   "outputs": [],
   "source": [
    "#import libraries\n",
    "import pandas as pd\n",
    "import numpy as np\n",
    "import missingno as msno\n",
    "import matplotlib.pyplot as plt\n",
    "import os\n",
    "from adjustText import adjust_text\n",
    "pd.set_option('display.max_columns', None)"
   ]
  },
  {
   "cell_type": "code",
   "execution_count": 2,
   "id": "c9bacf97",
   "metadata": {},
   "outputs": [],
   "source": [
    "#Read in all our data sets and one week's worth of data\n",
    "games = pd.read_csv(\"../Data/games.csv\")\n",
    "players = pd.read_csv(\"../Data/players.csv\")\n",
    "plays = pd.read_csv(\"../Data/plays.csv\")\n",
    "tackles = pd.read_csv(\"../Data/tackles.csv\")\n",
    "tracking = pd.read_csv(\"../Data/tracking_week_1.csv\")"
   ]
  }
 ],
 "metadata": {
  "kernelspec": {
   "display_name": "NFL",
   "language": "python",
   "name": "nfl"
  },
  "language_info": {
   "codemirror_mode": {
    "name": "ipython",
    "version": 3
   },
   "file_extension": ".py",
   "mimetype": "text/x-python",
   "name": "python",
   "nbconvert_exporter": "python",
   "pygments_lexer": "ipython3",
   "version": "3.9.13"
  }
 },
 "nbformat": 4,
 "nbformat_minor": 5
}
