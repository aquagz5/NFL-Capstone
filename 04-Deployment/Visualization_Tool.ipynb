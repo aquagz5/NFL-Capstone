{
 "cells": [
  {
   "cell_type": "markdown",
   "id": "b16e556a",
   "metadata": {},
   "source": [
    "# Vizualization Tool\n",
    "\n",
    "The following notebook will provide code for development of a vizualization tool that will take our developed models and produce tracking visualizations for a given play."
   ]
  }
 ],
 "metadata": {
  "kernelspec": {
   "display_name": "NFL",
   "language": "python",
   "name": "nfl"
  },
  "language_info": {
   "codemirror_mode": {
    "name": "ipython",
    "version": 3
   },
   "file_extension": ".py",
   "mimetype": "text/x-python",
   "name": "python",
   "nbconvert_exporter": "python",
   "pygments_lexer": "ipython3",
   "version": "3.9.13"
  }
 },
 "nbformat": 4,
 "nbformat_minor": 5
}
